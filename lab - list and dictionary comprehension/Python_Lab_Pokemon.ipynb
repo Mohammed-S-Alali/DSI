{
 "cells": [
  {
   "cell_type": "markdown",
   "metadata": {},
   "source": [
    "<img src=\"http://imgur.com/1ZcRyrc.png\" style=\"float: left; margin: 15px; height: 80px\">\n",
    "\n",
    "# 1.1-1.3 Lab- Data Structures and Python with Pokemon\n",
    "\n",
    "### Building \"Pokemon Stay\"\n",
    "\n",
    "---\n",
    "You are an analyst at a \"scrappy\" online gaming company that specializes in remakes of last year's fads.\n",
    "\n",
    "Your boss, who runs the product development team, is convinced that Pokemon Go's fatal flaw was that you had to actually move around outside. She has design mock-ups for a new game called Pokemon Stay: in this version players still need to move, but just from website to website. Pokemon gyms are now popular online destinations, and catching Pokemon in the \"wild\" simply requires browsing the internet for hours in the comfort of your home.\n",
    "\n",
    "She wants you to program a prototype version of the game, and analyze the planned content to help the team calibrate the design."
   ]
  },
  {
   "cell_type": "code",
   "execution_count": 88,
   "metadata": {},
   "outputs": [],
   "source": [
    "from IPython.display import display"
   ]
  },
  {
   "cell_type": "markdown",
   "metadata": {},
   "source": [
    "\n",
    "## 1. Defining a player\n",
    "\n",
    "---\n",
    "Each player needs to have a set of charactaristics, stored in variables, such as an id, a username, play data, etc. A great structure to house these variables is a `dictionary`, because the `values` can contain any python datatype includeing `list`, `dict`, `tuple`, `int`, `float`, `bool`, or `str`. \n",
    "\n",
    "The player variables are:\n",
    "\n",
    "    player_id : id code unique to each player (integer)\n",
    "    player_name : entered name of the player (string)\n",
    "    time_played : number of time played the game in minutes (float)\n",
    "    player_pokemon: the player's captured pokemon (dictionary)\n",
    "    gyms_visited: ids of the gyms that a player has visited (list)"
   ]
  },
  {
   "cell_type": "markdown",
   "metadata": {},
   "source": [
    "### A) Create a `dict` for a single player.\n",
    "\n",
    "* The `player_id` should be 1\n",
    "* Since the player doesn't have a name yet, you may set the `player_name` equal to `None`\n",
    "* The rest of the fields should be populated properly depending on the datatype."
   ]
  },
  {
   "cell_type": "code",
   "execution_count": 89,
   "metadata": {},
   "outputs": [
    {
     "name": "stdout",
     "output_type": "stream",
     "text": [
      "{'player_id': 1, 'player_name': None, 'time_played': 0.0, 'player_pokemon': {}, 'gyms_visited': []}\n"
     ]
    }
   ],
   "source": [
    "player_1 = None\n",
    "\n",
    "player_1={}\n",
    "\n",
    "player_1 ={\n",
    "    'player_id' : 1,\n",
    "    'player_name':None,\n",
    "    'time_played' : 0.0,\n",
    "    'player_pokemon' : {},\n",
    "    'gyms_visited' : []\n",
    "}\n",
    "\n",
    "print(player_1)"
   ]
  },
  {
   "cell_type": "markdown",
   "metadata": {},
   "source": [
    "### B) Create a `dict` to house your dataset of players.\n",
    "\n",
    "* Because only `player_1` exists, there should only be one `key:value` pair. \n",
    "* The `keys` of this `dict` should be the `player_id`, and the `values` should be the dictionaries with single-player info, including the `player_id` (slightly redundant).\n",
    "* Use the `display` function imported above to display `poke_players`."
   ]
  },
  {
   "cell_type": "code",
   "execution_count": 90,
   "metadata": {},
   "outputs": [
    {
     "data": {
      "text/plain": [
       "{1: {'player_id': 1,\n",
       "  'player_name': None,\n",
       "  'time_played': 0.0,\n",
       "  'player_pokemon': {},\n",
       "  'gyms_visited': []}}"
      ]
     },
     "metadata": {},
     "output_type": "display_data"
    }
   ],
   "source": [
    "poke_players = None\n",
    "\n",
    "poke_players = {\n",
    "    \n",
    "    player_1['player_id']: player_1\n",
    "\n",
    "}\n",
    "\n",
    "display(poke_players)"
   ]
  },
  {
   "cell_type": "markdown",
   "metadata": {},
   "source": [
    "### C) Update player 1's info with your own.\n",
    "\n",
    "* By indexing your `poke_players` dictionary, update the `player_name` field to your own name.\n",
    "* `display` your `poke_players` dict to check your work."
   ]
  },
  {
   "cell_type": "code",
   "execution_count": 91,
   "metadata": {},
   "outputs": [
    {
     "data": {
      "text/plain": [
       "{1: {'player_id': 1,\n",
       "  'player_name': 'Mohammed',\n",
       "  'time_played': 0.0,\n",
       "  'player_pokemon': {},\n",
       "  'gyms_visited': []}}"
      ]
     },
     "metadata": {},
     "output_type": "display_data"
    }
   ],
   "source": [
    "# Your code here\n",
    "poke_players[1]['player_name'] = 'Mohammed'\n",
    "display(poke_players)"
   ]
  },
  {
   "cell_type": "markdown",
   "metadata": {},
   "source": [
    "### D) Define a function that adds a player to `poke_players`.\n",
    "\n",
    "Your functions should...\n",
    "\n",
    "* Take arguments for `players_dict`, `player_id`, and `player_name`.\n",
    "* Create a player with the above values and populate the `gyms_visited`, `player_pokemon`, and `time_played` accordingly.\n",
    "* Returns the name of the player added.\n",
    "* Add a second player to the `players` dictionary. The id should be 2, but the name is up to you!\n",
    "* Display your `poke_players` to check your work."
   ]
  },
  {
   "cell_type": "code",
   "execution_count": 92,
   "metadata": {},
   "outputs": [],
   "source": [
    "def add_player(players_dict, player_id, player_name):\n",
    "    \n",
    "    players_dict[int(player_id)] = {\n",
    "        'player_id' : int(player_id),\n",
    "        'player_name' : str(player_name).strip(), \n",
    "        'time_played' : 0.0,\n",
    "        'player_pokemon' : {},\n",
    "        'gyms_visited' : []\n",
    "    }\n",
    "    \n",
    "    return (player_name)\n",
    "    \n",
    "    pass"
   ]
  },
  {
   "cell_type": "code",
   "execution_count": 93,
   "metadata": {},
   "outputs": [
    {
     "data": {
      "text/plain": [
       "{1: {'player_id': 1,\n",
       "  'player_name': 'Mohammed',\n",
       "  'time_played': 0.0,\n",
       "  'player_pokemon': {},\n",
       "  'gyms_visited': []},\n",
       " 2: {'player_id': 2,\n",
       "  'player_name': 'Amajd',\n",
       "  'time_played': 0.0,\n",
       "  'player_pokemon': {},\n",
       "  'gyms_visited': []}}"
      ]
     },
     "metadata": {},
     "output_type": "display_data"
    }
   ],
   "source": [
    "add_player(poke_players,'2',' Amajd ')\n",
    "display(poke_players)"
   ]
  },
  {
   "cell_type": "markdown",
   "metadata": {},
   "source": [
    "\n",
    "## 2. Defining \"gym\" locations\n",
    "\n",
    "---\n",
    "\n",
    "As the sole programmer, Pokemon Stay will have to start small. To begin, there will be 10 different gym location websites on the internet. The gym locations are:\n",
    "\n",
    "    1. 'reddit.com'\n",
    "    2. 'amazon.com'\n",
    "    3. 'twitter.com'\n",
    "    4. 'linkedin.com'\n",
    "    5. 'ebay.com'\n",
    "    6. 'netflix.com'\n",
    "    7. 'stackoverflow.com'\n",
    "    8. 'github.com'\n",
    "    9. 'quora.com'\n",
    "    10. 'google.com'\n",
    "\n",
    "* Set up a list of all the gym locations. This will be a list of strings. Print the list to check your work.\n",
    "* For each player in `poke_players`, use `sample` (imported from `random` below) to randomly select 2 gyms and add these gyms to the `gyms_visited` field.\n",
    "* Display the `poke_players` dict to check your work."
   ]
  },
  {
   "cell_type": "code",
   "execution_count": 94,
   "metadata": {},
   "outputs": [],
   "source": [
    "from random import sample"
   ]
  },
  {
   "cell_type": "code",
   "execution_count": 95,
   "metadata": {},
   "outputs": [
    {
     "data": {
      "text/plain": [
       "[0.8, ('a', 'b', 'c'), 'apple']"
      ]
     },
     "execution_count": 95,
     "metadata": {},
     "output_type": "execute_result"
    }
   ],
   "source": [
    "# Run this cell a few times to understand sample. Play around with the function!\n",
    "this_list = ['apple', 1, ('a','b','c'), 0.8]\n",
    "sample(this_list, 3)"
   ]
  },
  {
   "cell_type": "code",
   "execution_count": 96,
   "metadata": {},
   "outputs": [],
   "source": [
    "gyms = None\n",
    "# extra code here\n",
    "gyms = ['reddit.com','amazon.com','twitter.com','linkedin.com','ebay.com','netflix.com','stackoverflow.com','github.com','quora.com','google.com']"
   ]
  },
  {
   "cell_type": "code",
   "execution_count": 97,
   "metadata": {},
   "outputs": [
    {
     "data": {
      "text/plain": [
       "{1: {'player_id': 1,\n",
       "  'player_name': 'Mohammed',\n",
       "  'time_played': 0.0,\n",
       "  'player_pokemon': {},\n",
       "  'gyms_visited': ['github.com', 'quora.com']},\n",
       " 2: {'player_id': 2,\n",
       "  'player_name': 'Amajd',\n",
       "  'time_played': 0.0,\n",
       "  'player_pokemon': {},\n",
       "  'gyms_visited': ['reddit.com', 'github.com']}}"
      ]
     },
     "metadata": {},
     "output_type": "display_data"
    }
   ],
   "source": [
    "for index in poke_players:\n",
    "     poke_players[index]['gyms_visited'] = sample(gyms,2)\n",
    "        \n",
    "display(poke_players)"
   ]
  },
  {
   "cell_type": "markdown",
   "metadata": {},
   "source": [
    "\n",
    "## 3. Create a pokedex\n",
    "\n",
    "---\n",
    "\n",
    "We also need to create some pokemon to catch! Let's store the attributes of each pokemon in a `dictionary`, since each pokemon has many charactaristics we'd like to store.\n",
    "\n",
    "\n",
    "Each pokemon will be defined by these variables:\n",
    "\n",
    "    poke_id : unique identifier for each pokemon (integer, sequential)\n",
    "    poke_name : the name of the pokemon (string)\n",
    "    poke_type : the category of pokemon (string)\n",
    "    hp : base hitpoints (integer between 400 and 500)\n",
    "    attack : base attack (integer between 50 and 100)\n",
    "    defense : base defense (integer between 50 and 100)\n",
    "    special_attack : base special attack (integer between 100 and 150)\n",
    "    special_defense : base sepecial defense (integer between 100 and 150)\n",
    "    speed : base speed (integer between 0 and 100)"
   ]
  },
  {
   "cell_type": "markdown",
   "metadata": {},
   "source": [
    "### A) Create a function called `create_pokemon`\n",
    "\n",
    "* The function should take arguments for `poke_id`, `poke_name`, and `poke_type`.\n",
    "* Use `np.random.randint` to generate values for the numeric attributes based on the conditions above. If you're not clear on how this function works, there is a cell below with an example. Play around with it!\n",
    "* The function should return a `dict` for the pokemon.\n",
    "* Without assigning it to a variable, check the function's output by calling it with the following arguments:\n",
    "  * `poke_id = 1`\n",
    "  * `poke_name = 'charmander'`\n",
    "  * `poke_type = 'fire'`"
   ]
  },
  {
   "cell_type": "code",
   "execution_count": 98,
   "metadata": {},
   "outputs": [],
   "source": [
    "import numpy as np"
   ]
  },
  {
   "cell_type": "code",
   "execution_count": 99,
   "metadata": {},
   "outputs": [
    {
     "data": {
      "text/plain": [
       "6"
      ]
     },
     "execution_count": 99,
     "metadata": {},
     "output_type": "execute_result"
    }
   ],
   "source": [
    "# Play around with this cell to understand np.random.randint!\n",
    "np.random.randint(0,10)"
   ]
  },
  {
   "cell_type": "code",
   "execution_count": 100,
   "metadata": {},
   "outputs": [],
   "source": [
    "def create_pokemon(poke_id, poke_name, poke_type):\n",
    "    \n",
    "    # code here\n",
    "    pokemons_dict = {\n",
    "        'poke_id':int(poke_id),\n",
    "        'poke_name':str(poke_name).strip(),\n",
    "        'poke_type':str(poke_type).strip(),\n",
    "        'hp':np.random.randint(400,500),\n",
    "        'attack':np.random.randint(50,100),\n",
    "        'defense':np.random.randint(50,100),\n",
    "        'special_attack':np.random.randint(100,150),\n",
    "        'special_defense':np.random.randint(100,150),\n",
    "        'speed':np.random.randint(0,100)\n",
    "    }\n",
    "    \n",
    "    return (pokemons_dict)\n",
    "    pass"
   ]
  },
  {
   "cell_type": "code",
   "execution_count": 101,
   "metadata": {},
   "outputs": [
    {
     "data": {
      "text/plain": [
       "{'poke_id': 1,\n",
       " 'poke_name': 'charmander',\n",
       " 'poke_type': 'fire',\n",
       " 'hp': 472,\n",
       " 'attack': 84,\n",
       " 'defense': 54,\n",
       " 'special_attack': 112,\n",
       " 'special_defense': 102,\n",
       " 'speed': 76}"
      ]
     },
     "execution_count": 101,
     "metadata": {},
     "output_type": "execute_result"
    }
   ],
   "source": [
    "create_pokemon(1,'charmander','fire')"
   ]
  },
  {
   "cell_type": "markdown",
   "metadata": {},
   "source": [
    "### B) Populate the `pokedex`!\n",
    "\n",
    "Now we need some pokemon to catch. Let's create a dictionary to store the information!\n",
    "\n",
    "* Instantiate an empyt dictionary called `pokedex`.\n",
    "* Define a function called `create_and_add_to_pokedex`. This function should...\n",
    "  * Take arguments for `pokedex`,  `poke_id`, `poke_name`, and `poke_type`.\n",
    "  * Uses the `create_pokemon` function you created earlier to create a pokemon using the provided `poke_id`, `poke_name`, and `poke_type`.\n",
    "  * Add a new `key:value` pair to the `pokedex` dictionary where:\n",
    "    * the `key` is the `poke_id`, and\n",
    "    * the `value` is the newly-created pokemon dict, including the `poke_id` (this is slightly redundant, but that's ok!)\n",
    "  * Prints the name of the pokemon added to the pokedex using `str.format()`\n",
    "* Add the following 3 pokemon to your `pokedex` using `create_and_add_to_pokedex`:\n",
    "\n",
    "|Id|Name|Type|\n",
    "|---|---|---|\n",
    "|1|charmander|fire|\n",
    "|2|squirtle|water|\n",
    "|3|bulasaur|poison|\n",
    "\n",
    "Display your `pokedex` to check your work. It should look something like...\n",
    "\n",
    "```python\n",
    "{1: {'attack': 64,\n",
    "  'defense': 59,\n",
    "  'hp': 495,\n",
    "  'poke_id': 1,\n",
    "  'poke_name': 'charmander',\n",
    "  'poke_type': 'fire',\n",
    "  'special_attack': 100,\n",
    "  ...\n",
    "```"
   ]
  },
  {
   "cell_type": "code",
   "execution_count": 102,
   "metadata": {},
   "outputs": [],
   "source": [
    "pokedex = {}"
   ]
  },
  {
   "cell_type": "code",
   "execution_count": 103,
   "metadata": {},
   "outputs": [],
   "source": [
    "def create_and_add_to_pokedex(pokedex, poke_id, poke_name, poke_type):\n",
    "    \n",
    "    # Code here\n",
    "    pokedex[int(poke_id)] = create_pokemon(poke_id,poke_name,poke_type)\n",
    "    print(\"{} has been added.\".format(poke_name))\n",
    "    pass"
   ]
  },
  {
   "cell_type": "code",
   "execution_count": 104,
   "metadata": {},
   "outputs": [
    {
     "name": "stdout",
     "output_type": "stream",
     "text": [
      "charmander has been added.\n",
      "squirtle has been added.\n",
      "bulasaur has been added.\n"
     ]
    }
   ],
   "source": [
    "create_and_add_to_pokedex(pokedex,1,'charmander','fire')\n",
    "create_and_add_to_pokedex(pokedex,2,'squirtle','water')\n",
    "create_and_add_to_pokedex(pokedex,3,'bulasaur','poison')"
   ]
  },
  {
   "cell_type": "code",
   "execution_count": 105,
   "metadata": {},
   "outputs": [
    {
     "data": {
      "text/plain": [
       "{1: {'poke_id': 1,\n",
       "  'poke_name': 'charmander',\n",
       "  'poke_type': 'fire',\n",
       "  'hp': 484,\n",
       "  'attack': 92,\n",
       "  'defense': 97,\n",
       "  'special_attack': 101,\n",
       "  'special_defense': 140,\n",
       "  'speed': 2},\n",
       " 2: {'poke_id': 2,\n",
       "  'poke_name': 'squirtle',\n",
       "  'poke_type': 'water',\n",
       "  'hp': 473,\n",
       "  'attack': 89,\n",
       "  'defense': 77,\n",
       "  'special_attack': 119,\n",
       "  'special_defense': 127,\n",
       "  'speed': 90},\n",
       " 3: {'poke_id': 3,\n",
       "  'poke_name': 'bulasaur',\n",
       "  'poke_type': 'poison',\n",
       "  'hp': 494,\n",
       "  'attack': 99,\n",
       "  'defense': 79,\n",
       "  'special_attack': 137,\n",
       "  'special_defense': 116,\n",
       "  'speed': 84}}"
      ]
     },
     "metadata": {},
     "output_type": "display_data"
    }
   ],
   "source": [
    "display(pokedex)"
   ]
  },
  {
   "cell_type": "markdown",
   "metadata": {},
   "source": [
    "\n",
    "## 4. Let's capture some pokemon!\n",
    "\n",
    "---\n",
    "\n",
    "The `'player_pokemon'` keyed dictionaries for each player keep track of which of the pokemon each player has.\n",
    "\n",
    "The keys of the `'player_pokemon'` dictionaries are the pokemon ids that correspond to the ids in the `pokedex` dictionary you created earlier, and the values are the individual pokemon dicts. Just like your `pokedex`, but for each player individually!\n",
    "\n",
    "* Define a function called `add_pokemon_to_player` that...\n",
    "  * Takes arguents for `player_id`, `poke_id`, `player_dict`, and `pokedex`.\n",
    "    * You may set the default `player_dict` to `poke_players` and the default `pokedex` to the external variable `pokedex`\n",
    "  * Adds the desired pokemon to the `player_pokemon` field of the specified player\n",
    "  * Prints which pokemon was added to which player.\n",
    "* Use your function to add squirtle to player 1, and add charmander and bulbasaur to player 2\n",
    "* Display your `poke_players` to check your work."
   ]
  },
  {
   "cell_type": "code",
   "execution_count": 106,
   "metadata": {},
   "outputs": [],
   "source": [
    "def add_pokemon_to_player(player_id, poke_id, player_dict = poke_players, pokedex = pokedex):\n",
    "    \n",
    "    # code here\n",
    "    #add the pokemon to dictionary by pokemon id as key and value of his pokemon dictionary as value\n",
    "    poke_players[player_id] ['player_pokemon'][poke_id]= pokedex[poke_id]\n",
    "    print(str(pokedex[poke_id]['poke_name']) + ' has been added to ' + poke_players[player_id] ['player_name'])\n",
    "    \n",
    "    pass"
   ]
  },
  {
   "cell_type": "code",
   "execution_count": 107,
   "metadata": {},
   "outputs": [
    {
     "name": "stdout",
     "output_type": "stream",
     "text": [
      "squirtle has been added to Mohammed\n"
     ]
    }
   ],
   "source": [
    "add_pokemon_to_player(1, 2)"
   ]
  },
  {
   "cell_type": "code",
   "execution_count": 108,
   "metadata": {},
   "outputs": [
    {
     "name": "stdout",
     "output_type": "stream",
     "text": [
      "charmander has been added to Amajd\n"
     ]
    }
   ],
   "source": [
    "add_pokemon_to_player(2, 1)"
   ]
  },
  {
   "cell_type": "code",
   "execution_count": 109,
   "metadata": {},
   "outputs": [
    {
     "name": "stdout",
     "output_type": "stream",
     "text": [
      "bulasaur has been added to Amajd\n"
     ]
    }
   ],
   "source": [
    "add_pokemon_to_player(2, 3)"
   ]
  },
  {
   "cell_type": "code",
   "execution_count": 110,
   "metadata": {},
   "outputs": [
    {
     "data": {
      "text/plain": [
       "{1: {'player_id': 1,\n",
       "  'player_name': 'Mohammed',\n",
       "  'time_played': 0.0,\n",
       "  'player_pokemon': {2: {'poke_id': 2,\n",
       "    'poke_name': 'squirtle',\n",
       "    'poke_type': 'water',\n",
       "    'hp': 473,\n",
       "    'attack': 89,\n",
       "    'defense': 77,\n",
       "    'special_attack': 119,\n",
       "    'special_defense': 127,\n",
       "    'speed': 90}},\n",
       "  'gyms_visited': ['github.com', 'quora.com']},\n",
       " 2: {'player_id': 2,\n",
       "  'player_name': 'Amajd',\n",
       "  'time_played': 0.0,\n",
       "  'player_pokemon': {1: {'poke_id': 1,\n",
       "    'poke_name': 'charmander',\n",
       "    'poke_type': 'fire',\n",
       "    'hp': 484,\n",
       "    'attack': 92,\n",
       "    'defense': 97,\n",
       "    'special_attack': 101,\n",
       "    'special_defense': 140,\n",
       "    'speed': 2},\n",
       "   3: {'poke_id': 3,\n",
       "    'poke_name': 'bulasaur',\n",
       "    'poke_type': 'poison',\n",
       "    'hp': 494,\n",
       "    'attack': 99,\n",
       "    'defense': 79,\n",
       "    'special_attack': 137,\n",
       "    'special_defense': 116,\n",
       "    'speed': 84}},\n",
       "  'gyms_visited': ['reddit.com', 'github.com']}}"
      ]
     },
     "metadata": {},
     "output_type": "display_data"
    }
   ],
   "source": [
    "display(poke_players)"
   ]
  },
  {
   "cell_type": "markdown",
   "metadata": {},
   "source": [
    "\n",
    "\n",
    "## 5. What gyms have players visited?\n",
    "\n",
    "---\n",
    "\n",
    "### A) Checking gyms\n",
    "\n",
    "Write a for-loop that:\n",
    "\n",
    "1. Iterates through the `pokemon_gyms` list of gym locations you defined before.\n",
    "2. For each gym, iterate through each player in the `players` dictionary with a second, internal for-loop.\n",
    "3. If the player has visited the gym, print out \"[player] has visited [gym location].\", filling in [player] and [gym location] with the current player's name and current gym location."
   ]
  },
  {
   "cell_type": "code",
   "execution_count": 111,
   "metadata": {},
   "outputs": [
    {
     "name": "stdout",
     "output_type": "stream",
     "text": [
      "Mohammed has visited github.com\n",
      "Mohammed has visited quora.com\n",
      "Amajd has visited reddit.com\n",
      "Amajd has visited github.com\n"
     ]
    }
   ],
   "source": [
    "# Your code here\n",
    "for player in poke_players:\n",
    "    for gym in poke_players[player]['gyms_visited']:\n",
    "        print(poke_players[player]['player_name'] + \" has visited \" + gym)"
   ]
  },
  {
   "cell_type": "markdown",
   "metadata": {},
   "source": [
    "### B) Computational Complexity\n",
    "\n",
    "How many times did that loop run? If you have N gyms and also M players, how many times would it run as a function of N and M? \n",
    "\n",
    "(You can write your answer as Markdown text.)"
   ]
  },
  {
   "cell_type": "markdown",
   "metadata": {},
   "source": [
    "$N \\text{ gyms x } M \\text{ players } = NxM$"
   ]
  },
  {
   "cell_type": "markdown",
   "metadata": {},
   "source": [
    "\n",
    "## 6. Calculate player \"power\".\n",
    "\n",
    "---\n",
    "\n",
    "Define a function that will calculate a player's \"power\". Player power is defined as the sum of the base statistics all of their pokemon.\n",
    "\n",
    "$$\n",
    "\\text{player power } = \\sum_{i = 1}^{n}\\text{attack}_i + \\text{defense}_i + \\text{special attack}_i + \\text{special defense}_i\n",
    "$$\n",
    "\n",
    "Where $i$ is an individual pokemon in a player's `player_pokemon`. ($\\sum$ just means sum, so you're just adding up all the attributes listed above for all the pokemon in the player's `player_pokemon`).\n",
    "\n",
    "Your function should:\n",
    "\n",
    "*  Accept a `poke_players` dictionary and a `player_id` as arguments.\n",
    "*  For the specified player_id, look up that player's pokemon.\n",
    "*  Find and aggregate the attack and defense values for each of the player's pokemon.\n",
    "*  Print \"[player name]'s power is [player power].\", where the player power is the sum of the base statistics for all of their pokemon.\n",
    "*  Return the player's power value.\n",
    "\n",
    "Check your work by displaying pokemon power for each of your players."
   ]
  },
  {
   "cell_type": "code",
   "execution_count": 112,
   "metadata": {},
   "outputs": [],
   "source": [
    "def get_power(player_id, player_dict = poke_players):\n",
    "    \n",
    "    player_power = 0\n",
    "    sum_power = []\n",
    "    #fetch the dictionary of pokemon players by their IDs and player pokemon key\n",
    "    for poke_player in poke_players[player_id]['player_pokemon'].items():\n",
    "        #use List Comprehension to group each pokemon values, then add the value summation to sum_power \n",
    "        sum_power = [poke_player[1].get(key) for key in ['attack','defense','special_attack','special_defense']]\n",
    "        player_power = player_power + sum(sum_power)\n",
    "    print(poke_players[player_id]['player_name']+\"'s power is \"+str(player_power))\n",
    "    return (player_power)\n",
    "    pass"
   ]
  },
  {
   "cell_type": "code",
   "execution_count": 113,
   "metadata": {},
   "outputs": [
    {
     "name": "stdout",
     "output_type": "stream",
     "text": [
      "Mohammed's power is 412\n"
     ]
    },
    {
     "data": {
      "text/plain": [
       "412"
      ]
     },
     "execution_count": 113,
     "metadata": {},
     "output_type": "execute_result"
    }
   ],
   "source": [
    "get_power(1)"
   ]
  },
  {
   "cell_type": "code",
   "execution_count": 114,
   "metadata": {},
   "outputs": [
    {
     "name": "stdout",
     "output_type": "stream",
     "text": [
      "Amajd's power is 861\n"
     ]
    },
    {
     "data": {
      "text/plain": [
       "861"
      ]
     },
     "execution_count": 114,
     "metadata": {},
     "output_type": "execute_result"
    }
   ],
   "source": [
    "get_power(2)"
   ]
  },
  {
   "cell_type": "markdown",
   "metadata": {},
   "source": [
    "\n",
    "## 7. Load a pokedex file containing all the pokemon\n",
    "\n",
    "---\n",
    "\n",
    "### Load data using the `with open()` method.\n",
    "\n",
    "While you were putting together the prototype code, your colleagues were preparing a dataset of Pokemon and their attributes (This was a rush job, so they may have picked some crazy values for some...). Your task is to load the data into a list of lists so you can manipulate it.\n",
    "\n",
    "* The `type` of the data should be a `list`\n",
    "  * The `type` of each element in that list should be a `list`\n",
    "    * The `type` of each element in the sub-list should be `str` or `float`.\n",
    "\n",
    "The code provided loads the data into one looooong `str`. To get it into the correct format:\n",
    "* Use `your_string.replace()` to remove `\"`, where `your_string` is any object of type `str`. \n",
    "* Use `your_string.split()` to create a new row for each line. New lines are denoted with a `'\\n'`.\n",
    "* Iterate through your data. Use `try/except` to cast numeric data as type `float`. \n",
    "\n",
    "Your end result is effectively a matrix. Each list $i$ in the outer list is a row, and the $j$th elements of list together form the *j*th column, which represents a data attribute. The first three lists in your pokedex list should look like this:\n",
    "\n",
    "    ['PokedexNumber', 'Name', 'Type', 'Total', 'HP', 'Attack', 'Defense', 'SpecialAttack', 'SpecialDefense', 'Speed']\n",
    "    [1.0, 'Bulbasaur', 'GrassPoison', 318.0, 45.0, 49.0, 49.0, 65.0, 65.0, 45.0]\n",
    "    [2.0, 'Ivysaur', 'GrassPoison', 405.0, 60.0, 62.0, 63.0, 80.0, 80.0, 60.0]\n",
    "    \n",
    "**WARNING:** Don't print or display your entire new pokedex! Viewing that many entries will clog up your notebook and make it difficult to read."
   ]
  },
  {
   "cell_type": "code",
   "execution_count": 115,
   "metadata": {},
   "outputs": [],
   "source": [
    "# Code to read in pokedex info\n",
    "\n",
    "raw_pd = ''\n",
    "pokedex_file = 'pokedex_basic.csv'\n",
    "with open(pokedex_file, 'r') as f:\n",
    "    raw_pd = f.read()\n",
    "    \n",
    "# the pokedex string is assigned to the raw_pd variable"
   ]
  },
  {
   "cell_type": "code",
   "execution_count": 116,
   "metadata": {},
   "outputs": [
    {
     "data": {
      "text/plain": [
       "[['PokedexNumber',\n",
       "  'Name',\n",
       "  'Type',\n",
       "  'Total',\n",
       "  'HP',\n",
       "  'Attack',\n",
       "  'Defense',\n",
       "  'SpecialAttack',\n",
       "  'SpecialDefense',\n",
       "  'Speed'],\n",
       " [1.0, 'Bulbasaur', 'GrassPoison', 318.0, 45.0, 49.0, 49.0, 65.0, 65.0, 45.0],\n",
       " [2.0, 'Ivysaur', 'GrassPoison', 405.0, 60.0, 62.0, 63.0, 80.0, 80.0, 60.0]]"
      ]
     },
     "metadata": {},
     "output_type": "display_data"
    }
   ],
   "source": [
    "new_pd = raw_pd.split('\\n')\n",
    "\n",
    "for indexRow,value in enumerate(new_pd):\n",
    "    \n",
    "    new_pd[indexRow] = value.split(',')\n",
    "    #access the sub-list by row and column axises\n",
    "    for indexCol,value in enumerate(new_pd[indexRow]):\n",
    "            #use if-statment to avoid the non-numeric field\n",
    "            if (indexCol == 0 or indexCol > 2) and indexRow != 0:\n",
    "                try:\n",
    "                    new_pd[indexRow][indexCol] = float(value.replace('\"',''))\n",
    "                except:\n",
    "                    new_pd[indexRow][indexCol] = \"Invalid Value\"\n",
    "            else:\n",
    "                new_pd[indexRow][indexCol] = value.replace('\"','')\n",
    "\n",
    "display(new_pd[0:3])"
   ]
  },
  {
   "cell_type": "markdown",
   "metadata": {},
   "source": [
    "\n",
    "## 8. Changing Types\n",
    "\n",
    "---\n",
    "\n",
    "### A) Convert your data into a dictionary.\n",
    "\n",
    "Your `dict` should...\n",
    "* have `keys` of the new `pokedex` as the `PokedexNumber`\n",
    "* have `values` containing data for each pokemon in a dictionary form, just like our `pokedex` from before\n",
    "  * Keep in mind, the `keys` here are a little bit different than the original `pokedex`.\n",
    "  * Be careful of the header, you do not want to include that as a pokemon.\n",
    "* **WARNING:** Don't display your entire `pokedex` when turning this in! Viewing that many entries will clog up your notebook and make it difficult to read. If youd like to visualize your `pokedex`, index with a few of its `keys`.\n",
    "\n",
    "Your `new_pd_dict` should be organized like...\n",
    "\n",
    "```python\n",
    "{1.0: {'Attack': 49.0,\n",
    "  'Defense': 49.0,\n",
    "  'HP': 45.0,\n",
    "  'Name': 'Bulbasaur',\n",
    "  'PokedexNumber': 1.0,\n",
    "  'SpecialAttack': 65.0,\n",
    "  'SpecialDefense': 65.0,\n",
    "  'Speed': 45.0,\n",
    "  'Total': 318.0,\n",
    "  'Type': 'GrassPoison'},\n",
    " 2.0: {'Attack': 62.0,\n",
    "  'Defense': 63.0,\n",
    "  'HP': 60.0,\n",
    "  'Name': 'Ivysaur',\n",
    "```"
   ]
  },
  {
   "cell_type": "code",
   "execution_count": 117,
   "metadata": {},
   "outputs": [
    {
     "data": {
      "text/plain": [
       "{'Name': 'Bulbasaur',\n",
       " 'Type': 'GrassPoison',\n",
       " 'Total': 318.0,\n",
       " 'HP': 45.0,\n",
       " 'Attack': 49.0,\n",
       " 'Defense': 49.0,\n",
       " 'SpecialAttack': 65.0,\n",
       " 'SpecialDefense': 65.0,\n",
       " 'Speed': 45.0}"
      ]
     },
     "metadata": {},
     "output_type": "display_data"
    },
    {
     "data": {
      "text/plain": [
       "['Name',\n",
       " 'Type',\n",
       " 'Total',\n",
       " 'HP',\n",
       " 'Attack',\n",
       " 'Defense',\n",
       " 'SpecialAttack',\n",
       " 'SpecialDefense',\n",
       " 'Speed']"
      ]
     },
     "execution_count": 117,
     "metadata": {},
     "output_type": "execute_result"
    }
   ],
   "source": [
    "# Your code nere\n",
    "#we have two datasets that are pokedex and new_pd\n",
    "#here I used new_pd\n",
    "new_pd_dict = {}\n",
    "features = []\n",
    "for indexRow,player in enumerate(new_pd):\n",
    "    #add if-statment to skip the column name list\n",
    "    if indexRow != 0:\n",
    "        pokemon_id = float(player[0])\n",
    "        #add pokemon ID as key\n",
    "        new_pd_dict.update({pokemon_id:{}})\n",
    "        for index,value in enumerate(player):\n",
    "            #add if-statment to skip pokemon since, it has used as key\n",
    "            if index != 0:\n",
    "                key = new_pd[0][index]\n",
    "                try:\n",
    "                    new_pd_dict[pokemon_id][key] = float(value)\n",
    "                except:\n",
    "                    new_pd_dict[pokemon_id][key] = value.replace('\"','')\n",
    "    else:\n",
    "        features = [feature for feature in new_pd[indexRow]]\n",
    "        \n",
    "display(new_pd_dict[1.0])\n",
    "features=features[1:]\n",
    "features"
   ]
  },
  {
   "cell_type": "markdown",
   "metadata": {},
   "source": [
    "### B) Orient your `new_pd_dict` by columns.\n",
    "\n",
    "Your new pokedex is oriented by index, meaning that each entry is a row value. Your goal in this exercise is to orient the pokedex dict by columns, meaning:\n",
    "\n",
    "* The keys of the dictionary are the column names\n",
    "* The values of the dictionary are a **column vector** of that feature.\n",
    "* **HINT:** Read documentation on `defaultdict` (`from collections import defaultdict`), this may help!\n",
    "* **BONUS:** Do this with list and/or dictionary comprehensions only"
   ]
  },
  {
   "cell_type": "code",
   "execution_count": 118,
   "metadata": {},
   "outputs": [],
   "source": [
    "from collections import defaultdict"
   ]
  },
  {
   "cell_type": "code",
   "execution_count": 119,
   "metadata": {},
   "outputs": [],
   "source": [
    "# Your code here\n",
    "#Use features list as key of feature value of pokemon\n",
    "new_dict_column_orient = { feature : [value[feature] for key,value in new_pd_dict.items()] for feature in features}"
   ]
  },
  {
   "cell_type": "markdown",
   "metadata": {},
   "source": [
    "\n",
    "## 9. Write a function to filter your pokedex!\n",
    "---\n",
    "\n",
    "Your goal in this exercise is to search your pokedex based on your own defined criteria! Build a function that...\n",
    "\n",
    "* Takes arguments of: \n",
    "  * a pokedex dict (can be either the row or column oriented dict, pick the one of your choice!)\n",
    "  * a `filter_options` dict (described below)\n",
    "* For parameters in your `filter_dict`, your function should return:\n",
    "  * pokemon that are >= (greater than or equal to) the value you passed in your `filter_dict` for that field for continuous values\n",
    "  * pokemon of that name or type for string values (equal)\n",
    "* Return a list of the individual pokemon dictionaries that meet your search criteia!\n",
    "\n",
    "Example:\n",
    "\n",
    "```python\n",
    "\n",
    "# Only filter based on parameters passed\n",
    "filter_options = {\n",
    "    'Attack':   25,\n",
    "    'Defense':  30,\n",
    "    'Type':     'Electric'\n",
    "}\n",
    "\n",
    "# Return records with attack >= 24, defense >= 30, and type == \"Electric\"\n",
    "# Also anticipate that other paramters can also be passed such as \"SpecialAttack\", \"Speed\", etc.\n",
    "filtered_pokedex(pokedex_data, filter=filter_options)\n",
    "\n",
    "# Example output:\n",
    "# [{'Attack': 30.0,\n",
    "#  'Defense': 50.0,\n",
    "#  'HP': 40.0,\n",
    "#  'Name': 'Voltorb',\n",
    "#  'SpecialAttack': 55.0,\n",
    "#  'SpecialDefense': 55.0,\n",
    "#  'Speed': 100.0,\n",
    "#  'Total': 330.0,\n",
    "#  'Type': 'Electric'},\n",
    "#  {'Attack': 30.0,\n",
    "#  'Defense': 33.0,\n",
    "#  'HP': 32.0,\n",
    "#  'Name': 'Pikachu',\n",
    "#  'SpecialAttack': 55.0,\n",
    "#  'SpecialDefense': 55.0,\n",
    "#  'Speed': 100.0,\n",
    "#  'Total': 330.0,\n",
    "#  'Type': 'Electric'},\n",
    "#  ... etc\n",
    "#  ]\n",
    "\n",
    "```\n",
    "\n"
   ]
  },
  {
   "cell_type": "code",
   "execution_count": 120,
   "metadata": {},
   "outputs": [],
   "source": [
    "from collections import Counter"
   ]
  },
  {
   "cell_type": "code",
   "execution_count": 121,
   "metadata": {},
   "outputs": [
    {
     "data": {
      "text/plain": [
       "[{'Name': 'Squirtle',\n",
       "  'Type': 'Water',\n",
       "  'Total': 314.0,\n",
       "  'HP': 44.0,\n",
       "  'Attack': 48.0,\n",
       "  'Defense': 65.0,\n",
       "  'SpecialAttack': 50.0,\n",
       "  'SpecialDefense': 64.0,\n",
       "  'Speed': 43.0},\n",
       " {'Name': 'Wartortle',\n",
       "  'Type': 'Water',\n",
       "  'Total': 405.0,\n",
       "  'HP': 59.0,\n",
       "  'Attack': 63.0,\n",
       "  'Defense': 80.0,\n",
       "  'SpecialAttack': 65.0,\n",
       "  'SpecialDefense': 80.0,\n",
       "  'Speed': 58.0}]"
      ]
     },
     "execution_count": 121,
     "metadata": {},
     "output_type": "execute_result"
    }
   ],
   "source": [
    "# Your code here\n",
    "filter_options = {\n",
    "    'Attack':   25,\n",
    "    'Defense':  30,\n",
    "    'Type': 'Electric'\n",
    "}\n",
    "def filtered_pokedex(pokedex_data, filter=filter_options):\n",
    "    matched_pokemon = []\n",
    "    for index,key in enumerate(pokedex_data):\n",
    "        #flag indicate the pokemon is matched or not\n",
    "        flag = False\n",
    "        for attribute in filter.keys():\n",
    "            #get data of pokemon by defined attributes of filter\n",
    "            value_filter = filter[attribute]\n",
    "            value_pokemon = pokedex_data[key][attribute]\n",
    "            #match pokemon data to filter data\n",
    "            if (isinstance(value_filter,int) and value_pokemon >= value_filter) or (value_pokemon == value_filter):\n",
    "                flag = True\n",
    "            else:\n",
    "                flag = False\n",
    "        if flag:\n",
    "            matched_pokemon.append(pokedex_data[key])\n",
    "    return(matched_pokemon)\n",
    "\n",
    "filtered_pokedex(new_pd_dict,filter={\n",
    "    'Attack':   25,\n",
    "    'Defense':  30,\n",
    "    'Type' : 'Water'\n",
    "})[:2]"
   ]
  },
  {
   "cell_type": "markdown",
   "metadata": {},
   "source": [
    "\n",
    "## 10. Descriptive statistics on the prototype pokedex\n",
    "\n",
    "### A) What is the population mean and standard deviation of the \"Total\" attribute for all characters in the Pokedex?"
   ]
  },
  {
   "cell_type": "code",
   "execution_count": 122,
   "metadata": {},
   "outputs": [],
   "source": [
    "import numpy as np"
   ]
  },
  {
   "cell_type": "code",
   "execution_count": 123,
   "metadata": {},
   "outputs": [
    {
     "name": "stdout",
     "output_type": "stream",
     "text": [
      "Mean is 424.9500693481276\n",
      "Standard deviation is 118.71177581751657\n"
     ]
    }
   ],
   "source": [
    "# Your code here\n",
    "\n",
    "new_pd_dict_2D_list = [ [ new_pd_dict[value][key] for key in new_pd_dict[value]] for value in new_pd_dict.keys() ]\n",
    "#add the column name list to the list of new_pd_dict\n",
    "new_pd_dict_2D_list.insert(0,features)\n",
    "\n",
    "def get_numercal_matrix():\n",
    "    #remove the column name row\n",
    "    newlist = new_pd_dict_2D_list[1:]\n",
    "    #remove the string values of pokemon row\n",
    "    newlist = [ [value for value in row if isinstance(value,float)] for row in newlist]\n",
    "    return(newlist)\n",
    "\n",
    "#convert to matrix to apply mean and std functions easily\n",
    "total_matrix = np.array(get_numercal_matrix())[:,0]\n",
    "\n",
    "mean = np.mean(total_matrix)\n",
    "std = np.std(total_matrix)\n",
    "print(f\"Mean is {mean}\")\n",
    "print(f\"Standard deviation is {std}\")"
   ]
  },
  {
   "cell_type": "markdown",
   "metadata": {},
   "source": [
    "### B) Outlier detection part 1\n",
    "\n",
    "The game is no fun if the pokemon are wildly unbalanced! Are any pokemon \"overpowered\", which we'll define as having a \"Total\" more than 2.5 standard deviations from the population mean?"
   ]
  },
  {
   "cell_type": "code",
   "execution_count": 124,
   "metadata": {},
   "outputs": [
    {
     "name": "stdout",
     "output_type": "stream",
     "text": [
      "The Dragonite is overpowered\n",
      "The LatiosMega Latios is overpowered\n",
      "The KyogrePrimal Kyogre is overpowered\n",
      "The GroudonPrimal Groudon is overpowered\n"
     ]
    }
   ],
   "source": [
    "# Your code here\n",
    "\n",
    "for index,value in enumerate(total_matrix):\n",
    "    #if pokemon total within acceptable range will be ignored\n",
    "    if (value <= (mean+(std*2.5))) and (((mean-(std*2.5))) <= value):\n",
    "        pass\n",
    "    else:\n",
    "        print('The ' + new_pd_dict[index]['Name'] + ' is overpowered')\n"
   ]
  },
  {
   "cell_type": "markdown",
   "metadata": {},
   "source": [
    "### C) Outlier detection part 2\n",
    "\n",
    "[Tukey's method for outline detection](https://en.wikipedia.org/wiki/Outlier#Tukey.27s_fences) states that anything more than 1.5 * the interquartile range above or below the median is an outlier. Find outliers using this method!"
   ]
  },
  {
   "cell_type": "code",
   "execution_count": 125,
   "metadata": {},
   "outputs": [
    {
     "name": "stdout",
     "output_type": "stream",
     "text": [
      "The Dragonite is outlier\n",
      "The GroudonPrimal Groudon is outlier\n"
     ]
    }
   ],
   "source": [
    "# Your code here\n",
    "import numpy as np\n",
    "from scipy.stats import iqr\n",
    "\n",
    "q1 = np.quantile(total_matrix,0.25)\n",
    "q3 = np.quantile(total_matrix,0.75)\n",
    "iqr_pokemon = iqr(total_matrix)\n",
    "for index,value in enumerate(total_matrix):\n",
    "    #if pokemon total within acceptable range will be ignored otherwise the pokemon is outlier\n",
    "    if (((q1 - (iqr_pokemon*1.5)) <= value) and (value <= (q3 +(iqr_pokemon*1.5)))):\n",
    "        pass\n",
    "    else:\n",
    "        print('The ' + new_pd_dict[index]['Name'] + ' is outlier')"
   ]
  },
  {
   "cell_type": "markdown",
   "metadata": {},
   "source": [
    "## 11. Distributions, Sampling, and Confidence Intervals\n",
    "\n",
    "Now that you've loaded your data and identified outliers, you'd like to understand your data as a whole. Use the 1.3 lesson as a guide to complete the following challenges. "
   ]
  },
  {
   "cell_type": "markdown",
   "metadata": {},
   "source": [
    "### A) Plot histograms for each of the numeric values. \n",
    "\n",
    "There are 7 numeric features (columns):\n",
    "```python\n",
    "numeric_columns = ['Attack','Defense','HP','Specia7 unlAttack','SpecialDefense','Speed','Total']\n",
    "```\n",
    "\n",
    "Using `matplotlib.pyplot` subplots, create a figure that:\n",
    "* displays a histogram of each feature\n",
    "* Use the column name as the title of each subplot"
   ]
  },
  {
   "cell_type": "code",
   "execution_count": 126,
   "metadata": {},
   "outputs": [],
   "source": [
    "import matplotlib.pyplot as plt\n",
    "%matplotlib inline"
   ]
  },
  {
   "cell_type": "code",
   "execution_count": 127,
   "metadata": {},
   "outputs": [
    {
     "data": {
      "image/png": "[encoded data removed]",
      "text/plain": [
       "<Figure size 1152x576 with 9 Axes>"
      ]
     },
     "metadata": {
      "needs_background": "light"
     },
     "output_type": "display_data"
    }
   ],
   "source": [
    "# Your code here\n",
    "import pandas as pd\n",
    "#to modify the column names in dataframe\n",
    "pokemon_df = pd.DataFrame(new_pd_dict_col).drop(0)\n",
    "#add the appropriate column names\n",
    "pokemon_df.columns = features\n",
    "#casting the selected columns to float\n",
    "pokemon_df[pokemon_df.columns[2:]] = pokemon_df[pokemon_df.columns[2:]].astype('float')\n",
    "\n",
    "pokemon_df.hist(figsize=(16,8));"
   ]
  },
  {
   "cell_type": "markdown",
   "metadata": {},
   "source": [
    "### B) Are any features normally distributed? What is the skew of each column?\n",
    "\n",
    "Use `scipy.stats.normaltest` and `scipy.stats.skew` to find if each feature is normally distributed and to find if each distribution is skewed positive or negative."
   ]
  },
  {
   "cell_type": "code",
   "execution_count": 128,
   "metadata": {},
   "outputs": [],
   "source": [
    "from scipy.stats import normaltest, skew\n",
    "import numpy as np"
   ]
  },
  {
   "cell_type": "code",
   "execution_count": 129,
   "metadata": {},
   "outputs": [
    {
     "name": "stdout",
     "output_type": "stream",
     "text": [
      "Total is postive skewed\n",
      "HP is postive skewed\n",
      "Attack is postive skewed\n",
      "Defense is postive skewed\n",
      "SpecialAttack is postive skewed\n",
      "SpecialDefense is postive skewed\n",
      "Speed is postive skewed\n"
     ]
    }
   ],
   "source": [
    "# Your code here\n",
    "for column in pokemon_df.columns[2:]:\n",
    "    if (skew(pokemon_df[column])) > 0:\n",
    "        print(column + ' is postive skewed')\n",
    "    elif (skew(pokemon_df[column])) < 0:\n",
    "        print(column + ' is negtive skewed')\n",
    "    else:\n",
    "        print(column + ' is normal')"
   ]
  },
  {
   "cell_type": "markdown",
   "metadata": {},
   "source": [
    "### C) Find the 90% confidence interval for the mean of each of the numeric columns\n",
    "\n",
    "* Like we did in the 1.3 lesson, create functions to sample your data and generate a confidence interval for the mean. \n",
    "* Use your functions to determine the 90% confidence interval for the mean of each column.\n",
    "* What is the interpretation of your confidence interval?"
   ]
  },
  {
   "cell_type": "code",
   "execution_count": 130,
   "metadata": {},
   "outputs": [
    {
     "name": "stdout",
     "output_type": "stream",
     "text": [
      "The confidence interval of Total is (412.6005830470804, 491.3327502862528)\n",
      "The confidence interval of HP is (56.46609288050722, 71.26724045282612)\n",
      "The confidence interval of Attack is (77.43044714918052, 98.16955285081947)\n",
      "The confidence interval of Defense is (70.38702535999758, 90.07964130666909)\n",
      "The confidence interval of SpecialAttack is (67.58221917745033, 84.15111415588298)\n",
      "The confidence interval of SpecialDefense is (63.73658967869818, 78.59674365463516)\n",
      "The confidence interval of Speed is (57.030815711001516, 76.90251762233181)\n"
     ]
    }
   ],
   "source": [
    "# Your code here\n",
    "import numpy as np\n",
    "import scipy.stats as stats\n",
    "\n",
    "def get_confidence_interval():\n",
    "    confident = 0.90\n",
    "    #Access the matrix by specific columns that are numeric \n",
    "    for column in pokemon_df.columns[2:]:\n",
    "        pokemon_sample = sample(list(pokemon_df[column]),30)\n",
    "        mean_column = np.mean(pokemon_sample)\n",
    "        confidenc_interval = stats.norm.interval(confident, loc=mean_column, scale=stats.sem(pokemon_sample))\n",
    "        print('The confidence interval of '+str(column)+ ' is '+str(confidenc_interval))\n",
    "\n",
    "get_confidence_interval()"
   ]
  },
  {
   "cell_type": "code",
   "execution_count": 131,
   "metadata": {},
   "outputs": [],
   "source": [
    "#We are 90% confident that the mean of each numeric columns is between their lower and upper limits."
   ]
  }
 ],
 "metadata": {
  "anaconda-cloud": {},
  "kernelspec": {
   "display_name": "Python 3",
   "language": "python",
   "name": "python3"
  },
  "language_info": {
   "codemirror_mode": {
    "name": "ipython",
    "version": 3
   },
   "file_extension": ".py",
   "mimetype": "text/x-python",
   "name": "python",
   "nbconvert_exporter": "python",
   "pygments_lexer": "ipython3",
   "version": "3.8.5"
  }
 },
 "nbformat": 4,
 "nbformat_minor": 4
}
