{
 "cells": [
  {
   "cell_type": "markdown",
   "metadata": {},
   "source": [
    "<img src=\"http://imgur.com/1ZcRyrc.png\" style=\"float: left; margin: 20px; height: 55px\">\n",
    "\n",
    "# Extracting Base Estimators from Bagged Models Lab\n",
    "\n",
    "_Instructor: Husain Amer_\n",
    "\n",
    "\n",
    "---"
   ]
  },
  {
   "cell_type": "markdown",
   "metadata": {},
   "source": [
    "In this lab, you will have to make use of the attributes available with sklearn's [BaggingClassifier](http://scikit-learn.org/stable/modules/generated/sklearn.ensemble.BaggingClassifier.html). In particular\n",
    "you will need to investigate what you can do with \n",
    "- `.base_estimator_`\n",
    "- `.estimators_`\n",
    "- `.estimators_samples_`\n",
    "- `.estimators_features_`"
   ]
  },
  {
   "cell_type": "markdown",
   "metadata": {
    "toc": true
   },
   "source": [
    "<h1>Table of Contents<span class=\"tocSkip\"></span></h1>\n",
    "<div class=\"toc\"><ul class=\"toc-item\"><li><span><a href=\"#1.-Load-the-breast-cancer-data.\" data-toc-modified-id=\"1.-Load-the-breast-cancer-data.-1\">1. Load the breast cancer data.</a></span></li><li><span><a href=\"#2.-Load-required-sklearn-packages.\" data-toc-modified-id=\"2.-Load-required-sklearn-packages.-2\">2. Load required sklearn packages.</a></span></li><li><span><a href=\"#3.-Make-a-train-test-split.\" data-toc-modified-id=\"3.-Make-a-train-test-split.-3\">3. Make a train-test split.</a></span></li><li><span><a href=\"#4.-Create-and-fit-a-BaggingClassifier-with-a-DecisionTreeClassifier-base-estimator.\" data-toc-modified-id=\"4.-Create-and-fit-a-BaggingClassifier-with-a-DecisionTreeClassifier-base-estimator.-4\">4. Create and fit a <code>BaggingClassifier</code> with a <code>DecisionTreeClassifier</code> base estimator.</a></span></li><li><span><a href=\"#5.-Pull-out-the-base-estimator-from-the-ensemble-model.\" data-toc-modified-id=\"5.-Pull-out-the-base-estimator-from-the-ensemble-model.-5\">5. Pull out the base estimator from the ensemble model.</a></span></li><li><span><a href=\"#6.-Pull-out-all-the-base-estimators.\" data-toc-modified-id=\"6.-Pull-out-all-the-base-estimators.-6\">6. Pull out <em>all</em> the base estimators.</a></span></li><li><span><a href=\"#7.-Get-the-features-used-in-each-of-the-bagged-base-estimators.\" data-toc-modified-id=\"7.-Get-the-features-used-in-each-of-the-bagged-base-estimators.-7\">7. Get the features used in each of the bagged base estimators.</a></span></li><li><span><a href=\"#8.-Create-a-list-of-the-features-used-in-the-first-base-estimator.\" data-toc-modified-id=\"8.-Create-a-list-of-the-features-used-in-the-first-base-estimator.-8\">8. Create a list of the features used in the first base estimator.</a></span></li><li><span><a href=\"#9.-Get-out-the-samples-used-in-our-first-base-estimator.\" data-toc-modified-id=\"9.-Get-out-the-samples-used-in-our-first-base-estimator.-9\">9. Get out the samples used in our first base estimator.</a></span></li><li><span><a href=\"#10.-Get-out-the-target-subsample-for-the-estimator.\" data-toc-modified-id=\"10.-Get-out-the-target-subsample-for-the-estimator.-10\">10. Get out the target subsample for the estimator.</a></span></li><li><span><a href=\"#11.-Fit-a-decision-tree-equivalent-to-our-first-base-estimator.\" data-toc-modified-id=\"11.-Fit-a-decision-tree-equivalent-to-our-first-base-estimator.-11\">11. Fit a decision tree equivalent to our first base estimator.</a></span></li><li><span><a href=\"#12.-Bonus:-Take-each-of-the-decision-trees-from-the-ensemble-above-and-obtain-its-predictions-for-the-target-variable-in-the-test-set.-Use-majority-voting-to-obtain-the-ensemble-prediction-for-the-target-label.-Compare-with-the-bagging-classifier-score.\" data-toc-modified-id=\"12.-Bonus:-Take-each-of-the-decision-trees-from-the-ensemble-above-and-obtain-its-predictions-for-the-target-variable-in-the-test-set.-Use-majority-voting-to-obtain-the-ensemble-prediction-for-the-target-label.-Compare-with-the-bagging-classifier-score.-12\">12. Bonus: Take each of the decision trees from the ensemble above and obtain its predictions for the target variable in the test set. Use majority voting to obtain the ensemble prediction for the target label. Compare with the bagging classifier score.</a></span></li></ul></div>"
   ]
  },
  {
   "cell_type": "markdown",
   "metadata": {},
   "source": [
    "### 1. Load the breast cancer data."
   ]
  },
  {
   "cell_type": "code",
   "execution_count": 1,
   "metadata": {},
   "outputs": [],
   "source": [
    "import pandas as pd\n",
    "import numpy as np\n",
    "from sklearn.datasets import load_breast_cancer\n",
    "\n",
    "data = load_breast_cancer()\n",
    "\n",
    "# Converting data into a dataframe structure \n",
    "X = pd.DataFrame(data['data'], columns=data['feature_names'])\n",
    "# Setting up our Y value as well\n",
    "y = pd.Series(data['target'])"
   ]
  },
  {
   "cell_type": "markdown",
   "metadata": {},
   "source": [
    "### 2. Load required sklearn packages."
   ]
  },
  {
   "cell_type": "code",
   "execution_count": 2,
   "metadata": {},
   "outputs": [],
   "source": [
    "from sklearn.tree import DecisionTreeClassifier\n",
    "from sklearn.ensemble import BaggingClassifier\n",
    "from sklearn.model_selection import cross_val_score\n",
    "from sklearn.model_selection import GridSearchCV\n",
    "from sklearn.model_selection import train_test_split"
   ]
  },
  {
   "cell_type": "markdown",
   "metadata": {},
   "source": [
    "### 3. Make a train-test split 70-30 or your choice."
   ]
  },
  {
   "cell_type": "code",
   "execution_count": 3,
   "metadata": {},
   "outputs": [],
   "source": [
    "# A:\n",
    "X_train , X_test, y_train, y_test = train_test_split(X, y, test_size=0.3, stratify=y)"
   ]
  },
  {
   "cell_type": "markdown",
   "metadata": {},
   "source": [
    "### 4. Create and fit a `BaggingClassifier` with a `DecisionTreeClassifier` base estimator.\n",
    "\n",
    "- Fit on the training data.\n",
    "- Report the score on the test data."
   ]
  },
  {
   "cell_type": "code",
   "execution_count": 4,
   "metadata": {},
   "outputs": [
    {
     "name": "stdout",
     "output_type": "stream",
     "text": [
      "The score of test data is  0.9590643274853801\n"
     ]
    }
   ],
   "source": [
    "# A:\n",
    "# Initiate and fit the classifier\n",
    "dt = DecisionTreeClassifier()\n",
    "dt_bagging = BaggingClassifier(base_estimator=dt, n_estimators=20, max_samples=0.8, max_features=0.8)\n",
    "dt_bagging.fit(X_train,y_train)\n",
    "\n",
    "# Score our classifier\n",
    "print('The score of test data is ',dt_bagging.score(X_test,y_test))"
   ]
  },
  {
   "cell_type": "markdown",
   "metadata": {},
   "source": [
    "<font color='blue'> Note: go to the below link to see how to answer the coming questions\n",
    "* https://scikit-learn.org/stable/modules/generated/sklearn.ensemble.BaggingClassifier.html"
   ]
  },
  {
   "cell_type": "markdown",
   "metadata": {},
   "source": [
    "### 5. Pull out the base estimator from the ensemble model."
   ]
  },
  {
   "cell_type": "code",
   "execution_count": 6,
   "metadata": {},
   "outputs": [
    {
     "data": {
      "text/plain": [
       "DecisionTreeClassifier()"
      ]
     },
     "execution_count": 6,
     "metadata": {},
     "output_type": "execute_result"
    }
   ],
   "source": [
    "# A:\n",
    "# Get the base estimator used\n",
    "dt_bagging.base_estimator_"
   ]
  },
  {
   "cell_type": "markdown",
   "metadata": {},
   "source": [
    "### 6. Pull out *all* the base estimators."
   ]
  },
  {
   "cell_type": "code",
   "execution_count": 7,
   "metadata": {},
   "outputs": [
    {
     "data": {
      "text/plain": [
       "[DecisionTreeClassifier(random_state=742235302),\n",
       " DecisionTreeClassifier(random_state=523110125),\n",
       " DecisionTreeClassifier(random_state=217458536),\n",
       " DecisionTreeClassifier(random_state=192344927),\n",
       " DecisionTreeClassifier(random_state=1006122287),\n",
       " DecisionTreeClassifier(random_state=206305134),\n",
       " DecisionTreeClassifier(random_state=549596221),\n",
       " DecisionTreeClassifier(random_state=1234355400),\n",
       " DecisionTreeClassifier(random_state=507752521),\n",
       " DecisionTreeClassifier(random_state=611645019),\n",
       " DecisionTreeClassifier(random_state=1722580582),\n",
       " DecisionTreeClassifier(random_state=929325106),\n",
       " DecisionTreeClassifier(random_state=1543499687),\n",
       " DecisionTreeClassifier(random_state=415884873),\n",
       " DecisionTreeClassifier(random_state=311351614),\n",
       " DecisionTreeClassifier(random_state=1823198891),\n",
       " DecisionTreeClassifier(random_state=1486366474),\n",
       " DecisionTreeClassifier(random_state=736829200),\n",
       " DecisionTreeClassifier(random_state=1744152442),\n",
       " DecisionTreeClassifier(random_state=1896944775)]"
      ]
     },
     "execution_count": 7,
     "metadata": {},
     "output_type": "execute_result"
    }
   ],
   "source": [
    "# A:\n",
    "# Get all the base estimators\n",
    "dt_bagging.estimators_"
   ]
  },
  {
   "cell_type": "markdown",
   "metadata": {},
   "source": [
    "### 7. Get the features used in each of the bagged base estimators."
   ]
  },
  {
   "cell_type": "code",
   "execution_count": 8,
   "metadata": {},
   "outputs": [
    {
     "data": {
      "text/plain": [
       "[array([23,  3, 17, 11,  1, 18, 10, 14, 15, 29,  4, 16,  5,  8, 12, 28, 21,\n",
       "        25, 22,  9,  0, 27, 26,  7]),\n",
       " array([12,  4,  6, 29, 19,  1, 28, 23, 16,  5,  9,  8, 18,  0, 20, 11,  7,\n",
       "         2, 17, 10, 15, 25,  3, 27]),\n",
       " array([26, 13, 17, 16, 23, 21,  0,  4,  5, 27, 28, 25, 14, 19, 12, 15, 29,\n",
       "        24,  2,  3,  1,  7, 10,  9]),\n",
       " array([10,  2, 21, 28, 22, 16, 17, 23, 24, 11,  7, 18, 29, 19, 13,  8,  4,\n",
       "         6,  1,  0,  5, 14,  9, 25]),\n",
       " array([25, 23, 13, 26,  6, 21,  1,  2, 10,  5, 19, 18, 11, 24,  9,  0, 12,\n",
       "         4, 22, 27, 29, 14,  8,  3]),\n",
       " array([ 8,  2,  1, 29,  3, 18, 25, 11,  4,  9, 16,  7, 20, 10, 13,  0, 21,\n",
       "        28, 27, 23,  6,  5, 17, 15]),\n",
       " array([28, 23,  9, 20, 17, 26, 24,  0, 19,  8, 15, 11,  6, 27, 12, 22, 18,\n",
       "        10, 25,  1, 16,  4,  3,  5]),\n",
       " array([17, 10, 24, 22,  2, 19, 25,  7, 18,  4, 15,  6, 14,  3,  5, 12, 27,\n",
       "        11, 26, 28,  1, 21,  0,  9]),\n",
       " array([11, 17, 15, 19,  1, 24, 22, 29, 26, 20,  2, 21, 27, 14, 10,  0, 23,\n",
       "        13,  7,  3, 28,  6,  4, 25]),\n",
       " array([ 0, 14, 18, 24, 22,  8,  1, 17,  6, 28, 29, 11, 13,  3, 15,  4, 12,\n",
       "        26, 16,  9, 23, 19, 20,  2]),\n",
       " array([ 0,  8, 13, 22, 28, 23, 15,  7,  1, 25, 20,  2, 16, 12, 18, 24,  4,\n",
       "         5, 21, 10, 11, 19,  9, 27]),\n",
       " array([22, 29,  9, 24, 10,  8, 16, 17,  0, 14,  5, 15, 11,  4, 12,  7,  1,\n",
       "        20,  6, 23, 26, 19, 25, 27]),\n",
       " array([ 1, 22,  9, 14,  3,  4, 17,  5, 12, 25,  8, 16, 24,  2, 21, 23, 26,\n",
       "        19, 18, 29, 20, 11,  0, 27]),\n",
       " array([ 5, 27, 10, 12, 17,  3, 19,  6, 29,  0, 28, 25,  2, 13, 11, 14,  7,\n",
       "         8, 15, 22, 21, 16,  1, 26]),\n",
       " array([ 4,  8,  1, 13, 11, 24, 20, 19, 16,  0,  6, 12, 18, 27,  3, 17, 14,\n",
       "         9, 15, 22, 25, 29,  5,  2]),\n",
       " array([ 0,  7, 12, 22, 28, 15, 16, 27, 18, 10,  9, 23, 21,  3, 24, 25, 13,\n",
       "        17,  4,  2, 26, 29, 19,  5]),\n",
       " array([29, 27,  0,  7, 25, 13, 22,  5, 17, 18, 26, 21, 15,  3, 20, 19, 24,\n",
       "        11,  1, 12, 14,  8,  2, 16]),\n",
       " array([ 2,  3, 25, 19,  5, 24, 12,  6,  1,  7, 20,  8, 29, 17, 10, 28, 21,\n",
       "        26, 23, 27, 22,  9, 15,  0]),\n",
       " array([ 8, 22,  0, 10,  4,  1,  2, 21, 13, 15, 18, 14, 11,  9, 19, 20, 17,\n",
       "        25, 16, 23, 28, 24, 12,  7]),\n",
       " array([24, 15, 13, 16, 19,  8, 28, 29,  5, 21, 10, 27, 11, 22, 18, 12,  6,\n",
       "        25, 20,  9,  0,  4, 26, 17])]"
      ]
     },
     "execution_count": 8,
     "metadata": {},
     "output_type": "execute_result"
    }
   ],
   "source": [
    "# A:\n",
    "# Check features used in each estimator\n",
    "dt_bagging.estimators_features_"
   ]
  },
  {
   "cell_type": "markdown",
   "metadata": {},
   "source": [
    "### 8. Create a list of the features used in the first base estimator."
   ]
  },
  {
   "cell_type": "code",
   "execution_count": 9,
   "metadata": {},
   "outputs": [],
   "source": [
    "# A:\n",
    "# Get features used in the first estimator\n",
    "features_list = dt_bagging.estimators_features_[0]"
   ]
  },
  {
   "cell_type": "markdown",
   "metadata": {},
   "source": [
    "### 9. Get out the samples used in our first base estimator."
   ]
  },
  {
   "cell_type": "code",
   "execution_count": 10,
   "metadata": {},
   "outputs": [],
   "source": [
    "# A:\n",
    "# Get samples used in the first base estimator\n",
    "row_list = dt_bagging.estimators_samples_[0]"
   ]
  },
  {
   "cell_type": "markdown",
   "metadata": {},
   "source": [
    "### 10. Fit a decision tree equivalent to our first base estimator."
   ]
  },
  {
   "cell_type": "code",
   "execution_count": 11,
   "metadata": {},
   "outputs": [
    {
     "data": {
      "text/plain": [
       "DecisionTreeClassifier()"
      ]
     },
     "execution_count": 11,
     "metadata": {},
     "output_type": "execute_result"
    }
   ],
   "source": [
    "# A:\n",
    "# fit the classifer with first base estimator train and test samples\n",
    "X_train_base_estimator1= X_train.iloc[row_list,features_list]\n",
    "y_train_base_estimator1= y_train.iloc[row_list]\n",
    "dt.fit(X_train_base_estimator1,y_train_base_estimator1)"
   ]
  }
 ],
 "metadata": {
  "anaconda-cloud": {},
  "kernelspec": {
   "display_name": "Python 3",
   "language": "python",
   "name": "python3"
  },
  "language_info": {
   "codemirror_mode": {
    "name": "ipython",
    "version": 3
   },
   "file_extension": ".py",
   "mimetype": "text/x-python",
   "name": "python",
   "nbconvert_exporter": "python",
   "pygments_lexer": "ipython3",
   "version": "3.8.5"
  },
  "toc": {
   "nav_menu": {},
   "number_sections": false,
   "sideBar": true,
   "skip_h1_title": true,
   "title_cell": "Table of Contents",
   "title_sidebar": "Contents",
   "toc_cell": true,
   "toc_position": {},
   "toc_section_display": "block",
   "toc_window_display": false
  }
 },
 "nbformat": 4,
 "nbformat_minor": 4
}
