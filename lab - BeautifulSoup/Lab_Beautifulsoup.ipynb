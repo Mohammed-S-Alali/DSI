{
 "cells": [
  {
   "cell_type": "markdown",
   "metadata": {},
   "source": [
    "<img src=\"http://imgur.com/1ZcRyrc.png\" style=\"float: left; margin: 20px; height: 55px\">\n",
    "\n",
    "# Lab using BeautifulSoup \n",
    "\n",
    "\n",
    "_Instructor: Husain Amer_\n",
    "\n",
    "### Learning Objectives\n",
    "- Utilize Beautiful Soup to extract information from HTML \n"
   ]
  },
  {
   "cell_type": "markdown",
   "metadata": {},
   "source": [
    "### What is Beautiful Soup?\n",
    "---\n",
    "\n",
    "- It is a popular Python library for web scraping (parse the HTML).\n",
    "\n",
    "#### Install Beautiful Soup\n",
    "\n",
    "Students will need to install Selenium using one of the following:\n",
    "- **Anaconda:** `conda install -c anaconda beautifulsoup4`\n",
    "- **pip:** `pip install beautifulsoup4`"
   ]
  },
  {
   "cell_type": "code",
   "execution_count": 3,
   "metadata": {},
   "outputs": [],
   "source": [
    "#### Web scraping steps :\n",
    "\n",
    "## Step 1 : Download Html page \n",
    "## Step 2 : Parsing data (BS)\n",
    "## Step 3 : Save data in dataframe"
   ]
  },
  {
   "attachments": {
    "image.png": {
     "image/png": "[encoded data removed]"
    }
   },
   "cell_type": "markdown",
   "metadata": {},
   "source": [
    "# Exercise 1 :\n",
    "---\n",
    "\n",
    "![image.png](attachment:image.png)\n",
    "\n",
    "\n",
    "## Let's Scrape (Mobiles prices / Amazon Saudi) headlines\n",
    "\n",
    "<br>\n",
    "Let's take their \n",
    "\n",
    "[Apple Mobile Prices in Amazon Saudi](https://www.amazon.sa/Mobile-Phones-Apple-Communication/s?rh=n%3A16966419031%2Cp_89%3AApple&language=en&ref=SQSA-WEB-GT301)\n",
    "\n",
    "headlines using Python **requests**, and practice selecting various elements.\n",
    "\n",
    "Build a new dataframe as :\n",
    "\n",
    "|mobile_name|price|Capacity\n",
    "|---|---|---|\n",
    "|Apple iPhone 12 Pro...|1500|256GB|\n",
    "| ...|...|...|\n",
    "| ...|...|...|\n",
    "\n",
    "let's start by explore the structure of the page"
   ]
  },
  {
   "cell_type": "code",
   "execution_count": 1,
   "metadata": {},
   "outputs": [],
   "source": [
    "import requests\n",
    "import re\n",
    "import pandas as pd\n",
    "from bs4 import BeautifulSoup"
   ]
  },
  {
   "cell_type": "code",
   "execution_count": 5,
   "metadata": {},
   "outputs": [],
   "source": [
    "## Step 1 : Download Html page "
   ]
  },
  {
   "cell_type": "code",
   "execution_count": 2,
   "metadata": {},
   "outputs": [],
   "source": [
    "response = requests.get('https://www.amazon.sa/Mobile-Phones-Apple-Communication/s?rh=n%3A16966419031%2Cp_89%3AApple&language=en&ref=SQSA-WEB-GT301')\n"
   ]
  },
  {
   "cell_type": "code",
   "execution_count": 3,
   "metadata": {},
   "outputs": [
    {
     "data": {
      "text/plain": [
       "200"
      ]
     },
     "execution_count": 3,
     "metadata": {},
     "output_type": "execute_result"
    }
   ],
   "source": [
    "# what is the status code? did all go fine?\n",
    "response.status_code"
   ]
  },
  {
   "cell_type": "code",
   "execution_count": 44,
   "metadata": {
    "scrolled": true
   },
   "outputs": [
    {
     "data": {
      "text/plain": [
       "200"
      ]
     },
     "execution_count": 44,
     "metadata": {},
     "output_type": "execute_result"
    }
   ],
   "source": [
    "# No Code Here\n"
   ]
  },
  {
   "cell_type": "markdown",
   "metadata": {},
   "source": [
    "[Here is a list of html status codes](https://en.wikipedia.org/wiki/List_of_HTTP_status_codes)"
   ]
  },
  {
   "cell_type": "code",
   "execution_count": 9,
   "metadata": {},
   "outputs": [],
   "source": [
    "# step 2 :parsing using beautifulsoup\n"
   ]
  },
  {
   "cell_type": "code",
   "execution_count": 4,
   "metadata": {},
   "outputs": [],
   "source": [
    "soup1 = BeautifulSoup(response.text, 'html.parser')#'lxml')  # build tree"
   ]
  },
  {
   "cell_type": "markdown",
   "metadata": {},
   "source": [
    "Find all `'div'` with `attrs={'class':'sg-col-4-of-12 s-result-item s-asin sg-col-4-of-16 sg-col sg-col-4-of-20'}`"
   ]
  },
  {
   "cell_type": "code",
   "execution_count": 67,
   "metadata": {},
   "outputs": [],
   "source": [
    "# put the find_all list in a variable called items\n",
    "\n",
    "# Complete the code\n",
    "items= soup1.find_all('div',attrs={'class':\"sg-col-4-of-12 s-result-item s-asin sg-col-4-of-16 sg-col sg-col-4-of-20\"})"
   ]
  },
  {
   "cell_type": "code",
   "execution_count": 6,
   "metadata": {},
   "outputs": [
    {
     "data": {
      "text/plain": [
       "24"
      ]
     },
     "execution_count": 6,
     "metadata": {},
     "output_type": "execute_result"
    }
   ],
   "source": [
    "len(items)"
   ]
  },
  {
   "cell_type": "code",
   "execution_count": 40,
   "metadata": {
    "scrolled": true
   },
   "outputs": [
    {
     "data": {
      "text/plain": [
       "24"
      ]
     },
     "execution_count": 40,
     "metadata": {},
     "output_type": "execute_result"
    }
   ],
   "source": [
    "# Find the length of the list created by find all \n",
    "len(items)"
   ]
  },
  {
   "cell_type": "markdown",
   "metadata": {},
   "source": [
    "`soup.find()`   -- > soup object\n",
    "<br>\n",
    "`soup.find().text`  -- > string"
   ]
  },
  {
   "cell_type": "markdown",
   "metadata": {},
   "source": [
    "Create a list of mobile names and prices please, hint : for loop!"
   ]
  },
  {
   "cell_type": "code",
   "execution_count": 68,
   "metadata": {},
   "outputs": [],
   "source": [
    "mobile_name=[]\n",
    "mobile_price=[]\n",
    "\n",
    "# Extra code here\n",
    "for item in items:\n",
    "    mobile_name.append(item.find('span',attrs={'class':\"a-size-base-plus a-color-base a-text-normal\"}).string)\n",
    "    try:\n",
    "        mobile_price.append(item.find('span',attrs={'class':'a-price-whole'}).text[:-1])\n",
    "    except:\n",
    "        mobile_price.append(None)    "
   ]
  },
  {
   "cell_type": "code",
   "execution_count": 39,
   "metadata": {},
   "outputs": [
    {
     "data": {
      "text/plain": [
       "(24, 24)"
      ]
     },
     "execution_count": 39,
     "metadata": {},
     "output_type": "execute_result"
    }
   ],
   "source": [
    "# Check the length of each list and make sure they are equal\n",
    "len(mobile_name),len(mobile_price)"
   ]
  },
  {
   "cell_type": "code",
   "execution_count": 53,
   "metadata": {},
   "outputs": [
    {
     "data": {
      "text/plain": [
       "(24, 24)"
      ]
     },
     "execution_count": 53,
     "metadata": {},
     "output_type": "execute_result"
    }
   ],
   "source": [
    "# Check the length of each list and make sure they are equal\n",
    "len(mobile_name),len(mobile_price)"
   ]
  },
  {
   "cell_type": "code",
   "execution_count": 35,
   "metadata": {},
   "outputs": [
    {
     "data": {
      "text/plain": [
       "['Apple iPhone 12 Pro Max with Face Time - 256GB, 5G, Pacific Blue',\n",
       " 'Apple iPhone 12 Pro with Face Time - 256GB, 5G, Silver',\n",
       " 'Apple iPhone 12 with Face Time- 64GB,5G (PRODUCT) RED',\n",
       " 'Apple iPhone 12 with Face Time-128GB,5G, Blue',\n",
       " 'Apple Iphone 7 With Facetime - 128 GB, 4G LTE, Gold, 2 GB Ram, Single Sim',\n",
       " 'Apple iPhone 12 mini with Face Time -128GB,5G, Blue',\n",
       " 'Apple iPhone SE - 64GB, 4G LTE - Red',\n",
       " 'Apple iPhone 12 with Face Time- 64GB,5G,White',\n",
       " 'Apple iPhone 11 with FaceTime - 128GB, 4GB RAM, 4G LTE, Red, Single SIM & E-SIM',\n",
       " 'Apple iPhone 12 Pro Max with Facetime - 256GB, 5G, Silver - Physical Dual Sim HK Specs',\n",
       " 'Apple iPhone 7 without FaceTime - 128GB, 4G LTE, Black',\n",
       " 'Apple iPhone Xs Max Without FaceTime - 64GB, 4G LTE, Space Gray',\n",
       " 'Apple iPhone 8 with FaceTime - 256GB, 4G LTE, Space Grey',\n",
       " 'Apple iPhone 11 Pro with FaceTime - 64GB, 4GB RAM, 4G LTE, Space Gray, Single SIM & E-SIM',\n",
       " 'Apple Iphone XS Max With Facetime - 256 GB, 4G LTE, Gold, 4 GB Ram, Single Sim & E-Sim',\n",
       " 'Apple iPhone XR with Face Time - 64GB, 4G LTE, Red',\n",
       " 'Apple iPhone 11 Pro Max with FaceTime - 256GB, 4GB RAM, 4G LTE, Midnight Green, Single SIM & E-SIM',\n",
       " 'Apple iPhone 11 with FaceTime Dual SIM - 128GB, 4GB RAM, 4G LTE, Black',\n",
       " 'Apple iPhone Xs Max With FaceTime - 64GB, 4G LTE, Silver',\n",
       " 'Apple iPhone 7 with FaceTime - 128GB, 4G LTE, Rose Gold, 4.7 Inch',\n",
       " 'Apple iPhone 6S\\xa0with FaceTime\\xa0- 32GB, 4G LTE, Space Gray',\n",
       " 'Apple iPhone 6S Plus\\xa0with FaceTime\\xa0- 128GB, 4G LTE, Space Gray',\n",
       " 'Apple iPhone 6 without FaceTime - 32GB, 4G LTE, Space Gray',\n",
       " 'Apple iPhone SE - 64GB, 4G LTE - Black']"
      ]
     },
     "execution_count": 35,
     "metadata": {},
     "output_type": "execute_result"
    }
   ],
   "source": [
    "# let's take a look at the mobile_name list\n",
    "mobile_name"
   ]
  },
  {
   "cell_type": "code",
   "execution_count": 54,
   "metadata": {},
   "outputs": [
    {
     "data": {
      "text/plain": [
       "['Apple iPhone 12 Pro Max with Face Time - 256GB, 5G, Pacific Blue',\n",
       " 'Apple iPhone 12 with Face Time-128GB,5G, Blue',\n",
       " 'Apple iPhone 12 Pro with Face Time - 256GB, 5G, Gold',\n",
       " 'Apple iPhone 8 with FaceTime - 256GB, 4G LTE, Space Grey',\n",
       " 'Apple iPhone 12 mini with Face Time -128GB,5G, Black',\n",
       " 'Apple Iphone XS Max With Facetime - 256 GB, 4G LTE, Gold, 4 GB Ram, Single Sim & E-Sim',\n",
       " 'Apple iPhone 8 with Facetime 256 GB, 4G LTE, Red',\n",
       " 'Apple iPhone 11 with FaceTime - 128GB, 4GB RAM, 4G LTE, Green, Single SIM & E-SIM',\n",
       " 'Apple iPhone SE - 128GB, 4G LTE - White',\n",
       " 'Apple iPhone 11 Pro with FaceTime - 64GB, 4GB RAM, 4G LTE, Space Gray, Single SIM & E-SIM',\n",
       " 'Apple Iphone X With Facetime - 64 GB, 4G LTE, Silver, 3 GB Ram, Single Sim',\n",
       " 'Apple iPhone 7 without FaceTime - 128GB, 4G LTE, Black',\n",
       " 'Apple iPhone 6S Plus\\xa0with FaceTime\\xa0- 128GB, 4G LTE, Space Gray',\n",
       " 'Apple iPhone 7 with FaceTime - 128GB, 4G LTE, Rose Gold, 4.7 Inch',\n",
       " 'Apple Iphone 7 With Facetime - 128 GB, 4G LTE, Gold, 2 GB Ram, Single Sim',\n",
       " 'Apple iPhone Xs Max With FaceTime - 64GB, 4G LTE, Silver',\n",
       " 'Apple iPhone 11 Pro Max with FaceTime - 256GB, 4GB RAM, 4G LTE, Midnight Green, Single SIM & E-SIM',\n",
       " 'Apple iPhone 6S\\xa0with FaceTime\\xa0- 32GB, 4G LTE, Space Gray',\n",
       " 'Apple iPhone 12 with Face Time- 64GB,5G,White',\n",
       " 'Apple iPhone 6 without FaceTime - 32GB, 4G LTE, Space Gray',\n",
       " 'Apple iPhone 6s Plus Apple iPhone 6S Plus\\xa0with FaceTime\\xa0- 128GB, 4G LTE, Silver - Silver (Pack of1)',\n",
       " 'Apple iPhone 12 with Facetime - 128GB, 5G, Physical DUAL SIM, White - HONG KONG',\n",
       " 'Apple iPhone SE - 64GB, 4G LTE - Black',\n",
       " 'Apple iPhone X without FaceTime - 64GB, 4G LTE, Space Grey']"
      ]
     },
     "execution_count": 54,
     "metadata": {},
     "output_type": "execute_result"
    }
   ],
   "source": [
    "# let's take a look at the mobile_name list\n",
    "mobile_name"
   ]
  },
  {
   "cell_type": "code",
   "execution_count": 40,
   "metadata": {},
   "outputs": [],
   "source": [
    "## Step 3 : Save data in dataframe\n",
    "df = pd.DataFrame({'mobile_name':mobile_name,'price':mobile_price})"
   ]
  },
  {
   "cell_type": "code",
   "execution_count": 41,
   "metadata": {},
   "outputs": [
    {
     "data": {
      "text/html": [
       "<div>\n",
       "<style scoped>\n",
       "    .dataframe tbody tr th:only-of-type {\n",
       "        vertical-align: middle;\n",
       "    }\n",
       "\n",
       "    .dataframe tbody tr th {\n",
       "        vertical-align: top;\n",
       "    }\n",
       "\n",
       "    .dataframe thead th {\n",
       "        text-align: right;\n",
       "    }\n",
       "</style>\n",
       "<table border=\"1\" class=\"dataframe\">\n",
       "  <thead>\n",
       "    <tr style=\"text-align: right;\">\n",
       "      <th></th>\n",
       "      <th>mobile_name</th>\n",
       "      <th>price</th>\n",
       "    </tr>\n",
       "  </thead>\n",
       "  <tbody>\n",
       "    <tr>\n",
       "      <th>0</th>\n",
       "      <td>Apple iPhone 12 Pro Max with Face Time - 256GB...</td>\n",
       "      <td>5,499</td>\n",
       "    </tr>\n",
       "    <tr>\n",
       "      <th>1</th>\n",
       "      <td>Apple iPhone 12 Pro with Face Time - 256GB, 5G...</td>\n",
       "      <td>5,199</td>\n",
       "    </tr>\n",
       "    <tr>\n",
       "      <th>2</th>\n",
       "      <td>Apple iPhone 12 with Face Time- 64GB,5G (PRODU...</td>\n",
       "      <td>3,565</td>\n",
       "    </tr>\n",
       "    <tr>\n",
       "      <th>3</th>\n",
       "      <td>Apple iPhone 12 with Face Time-128GB,5G, Blue</td>\n",
       "      <td>3,859</td>\n",
       "    </tr>\n",
       "    <tr>\n",
       "      <th>4</th>\n",
       "      <td>Apple Iphone 7 With Facetime - 128 GB, 4G LTE,...</td>\n",
       "      <td>1,566</td>\n",
       "    </tr>\n",
       "  </tbody>\n",
       "</table>\n",
       "</div>"
      ],
      "text/plain": [
       "                                         mobile_name  price\n",
       "0  Apple iPhone 12 Pro Max with Face Time - 256GB...  5,499\n",
       "1  Apple iPhone 12 Pro with Face Time - 256GB, 5G...  5,199\n",
       "2  Apple iPhone 12 with Face Time- 64GB,5G (PRODU...  3,565\n",
       "3      Apple iPhone 12 with Face Time-128GB,5G, Blue  3,859\n",
       "4  Apple Iphone 7 With Facetime - 128 GB, 4G LTE,...  1,566"
      ]
     },
     "execution_count": 41,
     "metadata": {},
     "output_type": "execute_result"
    }
   ],
   "source": [
    "df.head()"
   ]
  },
  {
   "cell_type": "code",
   "execution_count": 78,
   "metadata": {
    "scrolled": true
   },
   "outputs": [
    {
     "data": {
      "text/html": [
       "<div>\n",
       "<style scoped>\n",
       "    .dataframe tbody tr th:only-of-type {\n",
       "        vertical-align: middle;\n",
       "    }\n",
       "\n",
       "    .dataframe tbody tr th {\n",
       "        vertical-align: top;\n",
       "    }\n",
       "\n",
       "    .dataframe thead th {\n",
       "        text-align: right;\n",
       "    }\n",
       "</style>\n",
       "<table border=\"1\" class=\"dataframe\">\n",
       "  <thead>\n",
       "    <tr style=\"text-align: right;\">\n",
       "      <th></th>\n",
       "      <th>mobile_name</th>\n",
       "      <th>price</th>\n",
       "    </tr>\n",
       "  </thead>\n",
       "  <tbody>\n",
       "    <tr>\n",
       "      <th>0</th>\n",
       "      <td>Apple iPhone 12 Pro Max with Face Time - 256GB...</td>\n",
       "      <td>5,499</td>\n",
       "    </tr>\n",
       "    <tr>\n",
       "      <th>1</th>\n",
       "      <td>Apple iPhone 12 with Face Time-128GB,5G, Blue</td>\n",
       "      <td>3,859</td>\n",
       "    </tr>\n",
       "    <tr>\n",
       "      <th>2</th>\n",
       "      <td>Apple iPhone 12 Pro with Face Time - 256GB, 5G...</td>\n",
       "      <td>5,196</td>\n",
       "    </tr>\n",
       "    <tr>\n",
       "      <th>3</th>\n",
       "      <td>Apple iPhone 8 with FaceTime - 256GB, 4G LTE, ...</td>\n",
       "      <td>2,194</td>\n",
       "    </tr>\n",
       "    <tr>\n",
       "      <th>4</th>\n",
       "      <td>Apple iPhone 12 mini with Face Time -128GB,5G,...</td>\n",
       "      <td>3,398</td>\n",
       "    </tr>\n",
       "  </tbody>\n",
       "</table>\n",
       "</div>"
      ],
      "text/plain": [
       "                                         mobile_name  price\n",
       "0  Apple iPhone 12 Pro Max with Face Time - 256GB...  5,499\n",
       "1      Apple iPhone 12 with Face Time-128GB,5G, Blue  3,859\n",
       "2  Apple iPhone 12 Pro with Face Time - 256GB, 5G...  5,196\n",
       "3  Apple iPhone 8 with FaceTime - 256GB, 4G LTE, ...  2,194\n",
       "4  Apple iPhone 12 mini with Face Time -128GB,5G,...  3,398"
      ]
     },
     "execution_count": 78,
     "metadata": {},
     "output_type": "execute_result"
    }
   ],
   "source": [
    "df.head()"
   ]
  },
  {
   "cell_type": "markdown",
   "metadata": {},
   "source": [
    "- Extract the mobile capacity size in a new column, extract it from the mobile name"
   ]
  },
  {
   "cell_type": "code",
   "execution_count": 57,
   "metadata": {},
   "outputs": [],
   "source": [
    "# Step 4: Extract the mobile capacity size in a new column, extract it from the mobile name\n",
    "\n",
    "# NOTE : you may get errors while doing the split of the mobile capacity since some mobiles does not have a capacity written .. \n",
    "# or the format of the name id is not the same for all the mobile name. In this case, use \"try:\" and \"except:\" to ..\n",
    "# append(None) if it could not get the capacity\n",
    "import re\n",
    "\n",
    "mobile_capacity=[]\n",
    "\n",
    "\n",
    "# Extra code here\n",
    "for item in items:\n",
    "    try:\n",
    "        m = re.search('([0-9]{2,3}\\s*[G][B])', item.find('span',attrs={'class':\"a-size-base-plus a-color-base a-text-normal\"}).string)\n",
    "        if m:\n",
    "            found = m.group(1)\n",
    "            mobile_capacity.append(found)\n",
    "        else:\n",
    "            mobile_capacity.append(None)\n",
    "    except:\n",
    "        mobile_capacity.append(None)"
   ]
  },
  {
   "cell_type": "code",
   "execution_count": 58,
   "metadata": {},
   "outputs": [],
   "source": [
    "## Step 5 : Save capacity in the dataframe \n",
    "df = pd.DataFrame({'mobile_name':mobile_name,'price':mobile_price,'Capacity':mobile_capacity})"
   ]
  },
  {
   "cell_type": "code",
   "execution_count": 59,
   "metadata": {},
   "outputs": [
    {
     "data": {
      "text/html": [
       "<div>\n",
       "<style scoped>\n",
       "    .dataframe tbody tr th:only-of-type {\n",
       "        vertical-align: middle;\n",
       "    }\n",
       "\n",
       "    .dataframe tbody tr th {\n",
       "        vertical-align: top;\n",
       "    }\n",
       "\n",
       "    .dataframe thead th {\n",
       "        text-align: right;\n",
       "    }\n",
       "</style>\n",
       "<table border=\"1\" class=\"dataframe\">\n",
       "  <thead>\n",
       "    <tr style=\"text-align: right;\">\n",
       "      <th></th>\n",
       "      <th>mobile_name</th>\n",
       "      <th>price</th>\n",
       "      <th>Capacity</th>\n",
       "    </tr>\n",
       "  </thead>\n",
       "  <tbody>\n",
       "    <tr>\n",
       "      <th>0</th>\n",
       "      <td>Apple iPhone 12 Pro Max with Face Time - 256GB...</td>\n",
       "      <td>5,499</td>\n",
       "      <td>256GB</td>\n",
       "    </tr>\n",
       "    <tr>\n",
       "      <th>1</th>\n",
       "      <td>Apple iPhone 12 Pro with Face Time - 256GB, 5G...</td>\n",
       "      <td>5,199</td>\n",
       "      <td>256GB</td>\n",
       "    </tr>\n",
       "    <tr>\n",
       "      <th>2</th>\n",
       "      <td>Apple iPhone 12 with Face Time- 64GB,5G (PRODU...</td>\n",
       "      <td>3,565</td>\n",
       "      <td>64GB</td>\n",
       "    </tr>\n",
       "    <tr>\n",
       "      <th>3</th>\n",
       "      <td>Apple iPhone 12 with Face Time-128GB,5G, Blue</td>\n",
       "      <td>3,859</td>\n",
       "      <td>128GB</td>\n",
       "    </tr>\n",
       "    <tr>\n",
       "      <th>4</th>\n",
       "      <td>Apple Iphone 7 With Facetime - 128 GB, 4G LTE,...</td>\n",
       "      <td>1,566</td>\n",
       "      <td>128 GB</td>\n",
       "    </tr>\n",
       "  </tbody>\n",
       "</table>\n",
       "</div>"
      ],
      "text/plain": [
       "                                         mobile_name  price Capacity\n",
       "0  Apple iPhone 12 Pro Max with Face Time - 256GB...  5,499    256GB\n",
       "1  Apple iPhone 12 Pro with Face Time - 256GB, 5G...  5,199    256GB\n",
       "2  Apple iPhone 12 with Face Time- 64GB,5G (PRODU...  3,565     64GB\n",
       "3      Apple iPhone 12 with Face Time-128GB,5G, Blue  3,859    128GB\n",
       "4  Apple Iphone 7 With Facetime - 128 GB, 4G LTE,...  1,566   128 GB"
      ]
     },
     "execution_count": 59,
     "metadata": {},
     "output_type": "execute_result"
    }
   ],
   "source": [
    "df.head()"
   ]
  },
  {
   "cell_type": "code",
   "execution_count": 62,
   "metadata": {
    "scrolled": true
   },
   "outputs": [
    {
     "data": {
      "text/html": [
       "<div>\n",
       "<style scoped>\n",
       "    .dataframe tbody tr th:only-of-type {\n",
       "        vertical-align: middle;\n",
       "    }\n",
       "\n",
       "    .dataframe tbody tr th {\n",
       "        vertical-align: top;\n",
       "    }\n",
       "\n",
       "    .dataframe thead th {\n",
       "        text-align: right;\n",
       "    }\n",
       "</style>\n",
       "<table border=\"1\" class=\"dataframe\">\n",
       "  <thead>\n",
       "    <tr style=\"text-align: right;\">\n",
       "      <th></th>\n",
       "      <th>mobile_name</th>\n",
       "      <th>price</th>\n",
       "      <th>Capacity</th>\n",
       "    </tr>\n",
       "  </thead>\n",
       "  <tbody>\n",
       "    <tr>\n",
       "      <th>0</th>\n",
       "      <td>Apple iPhone 12 Pro Max with Face Time - 256GB...</td>\n",
       "      <td>5,499</td>\n",
       "      <td>256GB</td>\n",
       "    </tr>\n",
       "    <tr>\n",
       "      <th>1</th>\n",
       "      <td>Apple iPhone 12 with Face Time-128GB,5G, Blue</td>\n",
       "      <td>3,859</td>\n",
       "      <td>128GB</td>\n",
       "    </tr>\n",
       "    <tr>\n",
       "      <th>2</th>\n",
       "      <td>Apple iPhone 12 Pro with Face Time - 256GB, 5G...</td>\n",
       "      <td>5,196</td>\n",
       "      <td>256GB</td>\n",
       "    </tr>\n",
       "    <tr>\n",
       "      <th>3</th>\n",
       "      <td>Apple iPhone 8 with FaceTime - 256GB, 4G LTE, ...</td>\n",
       "      <td>2,194</td>\n",
       "      <td>256GB</td>\n",
       "    </tr>\n",
       "    <tr>\n",
       "      <th>4</th>\n",
       "      <td>Apple iPhone 12 mini with Face Time -128GB,5G,...</td>\n",
       "      <td>3,398</td>\n",
       "      <td>128GB</td>\n",
       "    </tr>\n",
       "  </tbody>\n",
       "</table>\n",
       "</div>"
      ],
      "text/plain": [
       "                                         mobile_name  price Capacity\n",
       "0  Apple iPhone 12 Pro Max with Face Time - 256GB...  5,499    256GB\n",
       "1      Apple iPhone 12 with Face Time-128GB,5G, Blue  3,859    128GB\n",
       "2  Apple iPhone 12 Pro with Face Time - 256GB, 5G...  5,196    256GB\n",
       "3  Apple iPhone 8 with FaceTime - 256GB, 4G LTE, ...  2,194    256GB\n",
       "4  Apple iPhone 12 mini with Face Time -128GB,5G,...  3,398    128GB"
      ]
     },
     "execution_count": 62,
     "metadata": {},
     "output_type": "execute_result"
    }
   ],
   "source": [
    "df.head()"
   ]
  },
  {
   "attachments": {
    "image.png": {
     "image/png": "[encoded data removed]"
    }
   },
   "cell_type": "markdown",
   "metadata": {},
   "source": [
    "# Exercise 2 : MEDIUM Blogs\n",
    "---\n",
    "\n",
    "![image.png](attachment:image.png)\n",
    "\n",
    "\n",
    "## Let's Scrape (Number of Clabs, Name and Date)\n"
   ]
  },
  {
   "cell_type": "code",
   "execution_count": 61,
   "metadata": {},
   "outputs": [
    {
     "data": {
      "text/plain": [
       "200"
      ]
     },
     "execution_count": 61,
     "metadata": {},
     "output_type": "execute_result"
    }
   ],
   "source": [
    "response3 = requests.get('https://medium.com/search?q=data%20science')\n",
    "\n",
    "response3.status_code"
   ]
  },
  {
   "cell_type": "code",
   "execution_count": 62,
   "metadata": {},
   "outputs": [],
   "source": [
    "soup3 = BeautifulSoup(response3.text, 'html.parser')#'lxml')"
   ]
  },
  {
   "cell_type": "code",
   "execution_count": 72,
   "metadata": {},
   "outputs": [],
   "source": [
    "#Create the dataframe below!\n",
    "items1 = soup3.find_all('div',attrs={'class':\"u-paddingTop20 u-paddingBottom25 u-borderBottomLight js-block\"})\n",
    "claps=[]\n",
    "name=[]\n",
    "date=[]\n",
    "\n",
    "# Extra code here\n",
    "for item in items1:\n",
    "    date.append(item.find('time').string)\n",
    "    name.append(item.find('a',attrs={'class':\"ds-link ds-link--styleSubtle link link--darken link--accent u-accentColor--textNormal u-accentColor--textDarken\"}).string)\n",
    "    claps.append(item.find('button',{'class':\"button button--chromeless u-baseColor--buttonNormal js-multirecommendCountButton u-disablePointerEvents\"}).string)\n",
    "\n",
    "medium = pd.DataFrame({'claps':claps,'name':name,'date':date})"
   ]
  },
  {
   "cell_type": "code",
   "execution_count": 73,
   "metadata": {},
   "outputs": [
    {
     "data": {
      "text/html": [
       "<div>\n",
       "<style scoped>\n",
       "    .dataframe tbody tr th:only-of-type {\n",
       "        vertical-align: middle;\n",
       "    }\n",
       "\n",
       "    .dataframe tbody tr th {\n",
       "        vertical-align: top;\n",
       "    }\n",
       "\n",
       "    .dataframe thead th {\n",
       "        text-align: right;\n",
       "    }\n",
       "</style>\n",
       "<table border=\"1\" class=\"dataframe\">\n",
       "  <thead>\n",
       "    <tr style=\"text-align: right;\">\n",
       "      <th></th>\n",
       "      <th>claps</th>\n",
       "      <th>name</th>\n",
       "      <th>date</th>\n",
       "    </tr>\n",
       "  </thead>\n",
       "  <tbody>\n",
       "    <tr>\n",
       "      <th>0</th>\n",
       "      <td>22K</td>\n",
       "      <td>Harrison Jansma</td>\n",
       "      <td>Sep 15, 2018</td>\n",
       "    </tr>\n",
       "    <tr>\n",
       "      <th>1</th>\n",
       "      <td>18.4K</td>\n",
       "      <td>Michael Galarnyk</td>\n",
       "      <td>Jul 8, 2018</td>\n",
       "    </tr>\n",
       "    <tr>\n",
       "      <th>2</th>\n",
       "      <td>19.3K</td>\n",
       "      <td>Civis Analytics</td>\n",
       "      <td>Jun 8, 2018</td>\n",
       "    </tr>\n",
       "    <tr>\n",
       "      <th>3</th>\n",
       "      <td>7.3K</td>\n",
       "      <td>David Venturi</td>\n",
       "      <td>Sep 26, 2016</td>\n",
       "    </tr>\n",
       "    <tr>\n",
       "      <th>4</th>\n",
       "      <td>13.7K</td>\n",
       "      <td>Tirthajyoti Sarkar</td>\n",
       "      <td>Aug 8, 2018</td>\n",
       "    </tr>\n",
       "    <tr>\n",
       "      <th>5</th>\n",
       "      <td>6.4K</td>\n",
       "      <td>David Venturi</td>\n",
       "      <td>Jan 25, 2017</td>\n",
       "    </tr>\n",
       "    <tr>\n",
       "      <th>6</th>\n",
       "      <td>11.6K</td>\n",
       "      <td>Parul Pandey</td>\n",
       "      <td>Dec 18, 2018</td>\n",
       "    </tr>\n",
       "    <tr>\n",
       "      <th>7</th>\n",
       "      <td>7.1K</td>\n",
       "      <td>David Venturi</td>\n",
       "      <td>May 31, 2017</td>\n",
       "    </tr>\n",
       "    <tr>\n",
       "      <th>8</th>\n",
       "      <td>10.7K</td>\n",
       "      <td>Conor Dewey</td>\n",
       "      <td>Jun 5, 2018</td>\n",
       "    </tr>\n",
       "  </tbody>\n",
       "</table>\n",
       "</div>"
      ],
      "text/plain": [
       "   claps                name          date\n",
       "0    22K     Harrison Jansma  Sep 15, 2018\n",
       "1  18.4K    Michael Galarnyk   Jul 8, 2018\n",
       "2  19.3K     Civis Analytics   Jun 8, 2018\n",
       "3   7.3K       David Venturi  Sep 26, 2016\n",
       "4  13.7K  Tirthajyoti Sarkar   Aug 8, 2018\n",
       "5   6.4K       David Venturi  Jan 25, 2017\n",
       "6  11.6K        Parul Pandey  Dec 18, 2018\n",
       "7   7.1K       David Venturi  May 31, 2017\n",
       "8  10.7K         Conor Dewey   Jun 5, 2018"
      ]
     },
     "execution_count": 73,
     "metadata": {},
     "output_type": "execute_result"
    }
   ],
   "source": [
    "medium"
   ]
  },
  {
   "cell_type": "code",
   "execution_count": 73,
   "metadata": {},
   "outputs": [
    {
     "data": {
      "text/html": [
       "<div>\n",
       "<style scoped>\n",
       "    .dataframe tbody tr th:only-of-type {\n",
       "        vertical-align: middle;\n",
       "    }\n",
       "\n",
       "    .dataframe tbody tr th {\n",
       "        vertical-align: top;\n",
       "    }\n",
       "\n",
       "    .dataframe thead th {\n",
       "        text-align: right;\n",
       "    }\n",
       "</style>\n",
       "<table border=\"1\" class=\"dataframe\">\n",
       "  <thead>\n",
       "    <tr style=\"text-align: right;\">\n",
       "      <th></th>\n",
       "      <th>claps</th>\n",
       "      <th>name</th>\n",
       "      <th>date</th>\n",
       "    </tr>\n",
       "  </thead>\n",
       "  <tbody>\n",
       "    <tr>\n",
       "      <th>0</th>\n",
       "      <td>22K</td>\n",
       "      <td>Harrison Jansma</td>\n",
       "      <td>Sep 15, 2018</td>\n",
       "    </tr>\n",
       "    <tr>\n",
       "      <th>1</th>\n",
       "      <td>18.4K</td>\n",
       "      <td>Michael Galarnyk</td>\n",
       "      <td>Jul 8, 2018</td>\n",
       "    </tr>\n",
       "    <tr>\n",
       "      <th>2</th>\n",
       "      <td>19.3K</td>\n",
       "      <td>Civis Analytics</td>\n",
       "      <td>Jun 8, 2018</td>\n",
       "    </tr>\n",
       "    <tr>\n",
       "      <th>3</th>\n",
       "      <td>7.3K</td>\n",
       "      <td>David Venturi</td>\n",
       "      <td>Sep 26, 2016</td>\n",
       "    </tr>\n",
       "    <tr>\n",
       "      <th>4</th>\n",
       "      <td>13.7K</td>\n",
       "      <td>Tirthajyoti Sarkar</td>\n",
       "      <td>Aug 8, 2018</td>\n",
       "    </tr>\n",
       "    <tr>\n",
       "      <th>5</th>\n",
       "      <td>6.4K</td>\n",
       "      <td>David Venturi</td>\n",
       "      <td>Jan 25, 2017</td>\n",
       "    </tr>\n",
       "    <tr>\n",
       "      <th>6</th>\n",
       "      <td>11.6K</td>\n",
       "      <td>Parul Pandey</td>\n",
       "      <td>Dec 18, 2018</td>\n",
       "    </tr>\n",
       "    <tr>\n",
       "      <th>7</th>\n",
       "      <td>7.1K</td>\n",
       "      <td>David Venturi</td>\n",
       "      <td>May 31, 2017</td>\n",
       "    </tr>\n",
       "    <tr>\n",
       "      <th>8</th>\n",
       "      <td>10.7K</td>\n",
       "      <td>Conor Dewey</td>\n",
       "      <td>Jun 5, 2018</td>\n",
       "    </tr>\n",
       "    <tr>\n",
       "      <th>9</th>\n",
       "      <td>8.4K</td>\n",
       "      <td>David Venturi</td>\n",
       "      <td>Apr 19, 2016</td>\n",
       "    </tr>\n",
       "  </tbody>\n",
       "</table>\n",
       "</div>"
      ],
      "text/plain": [
       "   claps                name          date\n",
       "0    22K     Harrison Jansma  Sep 15, 2018\n",
       "1  18.4K    Michael Galarnyk   Jul 8, 2018\n",
       "2  19.3K     Civis Analytics   Jun 8, 2018\n",
       "3   7.3K       David Venturi  Sep 26, 2016\n",
       "4  13.7K  Tirthajyoti Sarkar   Aug 8, 2018\n",
       "5   6.4K       David Venturi  Jan 25, 2017\n",
       "6  11.6K        Parul Pandey  Dec 18, 2018\n",
       "7   7.1K       David Venturi  May 31, 2017\n",
       "8  10.7K         Conor Dewey   Jun 5, 2018\n",
       "9   8.4K       David Venturi  Apr 19, 2016"
      ]
     },
     "execution_count": 73,
     "metadata": {},
     "output_type": "execute_result"
    }
   ],
   "source": [
    "medium"
   ]
  }
 ],
 "metadata": {
  "kernelspec": {
   "display_name": "Python 3",
   "language": "python",
   "name": "python3"
  },
  "language_info": {
   "codemirror_mode": {
    "name": "ipython",
    "version": 3
   },
   "file_extension": ".py",
   "mimetype": "text/x-python",
   "name": "python",
   "nbconvert_exporter": "python",
   "pygments_lexer": "ipython3",
   "version": "3.8.5"
  }
 },
 "nbformat": 4,
 "nbformat_minor": 4
}
