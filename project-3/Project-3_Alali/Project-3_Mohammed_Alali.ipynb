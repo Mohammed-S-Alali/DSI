{
 "cells": [
  {
   "cell_type": "markdown",
   "metadata": {},
   "source": [
    "# Project 3: Sharing Dataset on Kaggle"
   ]
  },
  {
   "cell_type": "markdown",
   "metadata": {},
   "source": [
    "## Problem Statment"
   ]
  },
  {
   "cell_type": "markdown",
   "metadata": {},
   "source": [
    "<p style=\"text-align:justify\"> News of MBS league has been more excited in the last years. Since the teams spent more than one billion riyals on contracts, deals and training camps. Also, the competition became more intense due to the small point difference between the top 4 teams. The rank of the league will be affected in the long term if the competition is ongoing like the premier league. The aim of a dataset to do sentiment analysis, prediction and clustering in order to know how the competition is described. </p>"
   ]
  },
  {
   "cell_type": "markdown",
   "metadata": {},
   "source": [
    "## Executive Summary"
   ]
  },
  {
   "cell_type": "markdown",
   "metadata": {},
   "source": [
    "<p style=\"text-align:justify\">This project focuses on providing the dataset of news of MBS league to share it on Kaggle, which provides information about the news, title of news, and writer of news. Currently, the arabic news dataset has been increased in the last year on Kaggle. As a result, the arabic soccer news does not have an attention like arabic character recognition and arabic tweets. So, the objective of this project is to produce the saudi soccer news with including the main features. The project conducts on the data science process (Web-Scraping).</p>\n",
    "Exploratory data analysis produces the findings:\n",
    "<ol>\n",
    "    <li>The 'الرياض' has the highest number of news by 849.</li>\n",
    "    <li>The 24 January 2021 has the highest number of news by 68.</li>\n",
    "    <li>The 'الأول', 'الفريق' and 'القدم' are the most common words in news.</li>\n",
    "</ol>"
   ]
  },
  {
   "cell_type": "markdown",
   "metadata": {},
   "source": [
    "The link of dataset in Kaggle <a href=\"https://www.kaggle.com/mo7mmedcs/saudi-soccer-news-arabic\">Here</a> ."
   ]
  },
  {
   "cell_type": "markdown",
   "metadata": {},
   "source": [
    "### Contents:\n",
    "- [Web-Scraping](#1.-Web-Scraping-(gathering-data))\n",
    "- [Create Dataframe](#2.-Create-Dataframe-(integrate-data))\n",
    "- [Data Cleaning](#3.-Data-Cleaning)\n",
    "- [Data Processing](#4.-Data-Processing)\n",
    "- [EDA](#5.-EDA)"
   ]
  },
  {
   "cell_type": "markdown",
   "metadata": {},
   "source": [
    "## Load packages"
   ]
  },
  {
   "cell_type": "code",
   "execution_count": 228,
   "metadata": {},
   "outputs": [],
   "source": [
    "import re #Regular expression\n",
    "import requests\n",
    "import pandas as pd\n",
    "import numpy as np\n",
    "from bs4 import BeautifulSoup\n",
    "from time import sleep\n",
    "from selenium import webdriver\n",
    "from nltk.corpus import stopwords\n",
    "from nltk.tokenize import word_tokenize\n",
    "import pyarabic.araby as araby           # pip install PyArabic\n",
    "import matplotlib.pyplot as plt \n",
    "import seaborn as sns\n",
    "from wordcloud import WordCloud          # pip install wordcloud\n",
    "from arabic_reshaper import reshape      # pip install arabic-reshaper\n",
    "from bidi.algorithm import get_display   # pip install python-bidi"
   ]
  },
  {
   "cell_type": "markdown",
   "metadata": {},
   "source": [
    "<br>"
   ]
  },
  {
   "cell_type": "markdown",
   "metadata": {},
   "source": [
    "## 1. Web-Scraping (gathering data)"
   ]
  },
  {
   "cell_type": "markdown",
   "metadata": {},
   "source": [
    "### 1.1 Get Link of News Page"
   ]
  },
  {
   "cell_type": "markdown",
   "metadata": {},
   "source": [
    "*Note* : Do not run the below code, it will provide different news links."
   ]
  },
  {
   "cell_type": "code",
   "execution_count": 279,
   "metadata": {},
   "outputs": [],
   "source": [
    "page_link = [] # Define the list to hold the links of news\n",
    "\n",
    "for i in range (1,101):\n",
    "    \n",
    "    # Assign the path of request based-on the number of page.\n",
    "    page = requests.get(f'https://arriyadiyah.com/section/%D8%A7%D9%84%D9%83%D8%B1%D8%A9-%D8%A7%D9%84%D8%B3%D8%B9%D9%88%D8%AF%D9%8A%D8%A9?&page={i}')\n",
    "    \n",
    "    sleep(0.001) # Add some delay to prevent the request from blocking.\n",
    "\n",
    "    html = page.text # property/attribute -- Gets the source of the current page.\n",
    "\n",
    "    soup = BeautifulSoup(html,'html')#'html.parser')\n",
    "    \n",
    "    pages = soup.find_all('div', attrs={'class':'list-page-item'}) # Get all news in the page from each div.\n",
    "    \n",
    "    for index,item in enumerate(pages):\n",
    "\n",
    "        try:\n",
    "\n",
    "        link = item.find('a')['href'] # Get link or (news ID) of news from each div as item of news list.\n",
    "            \n",
    "        page_link.append('https://arriyadiyah.com/'+link) # Add the news ID to add as page link of news in list\n",
    "                                                          # of page links.\n",
    "        \n",
    "        except:\n",
    "            \n",
    "            print(f'The link of {index} news is not available.') # In case the link is not avaliable, we will see which news does not has link.\n",
    "            page_link.append(None) # Add the none, if the link is not avaliable. \n",
    "            \n",
    "    if i%10 == 0:\n",
    "            print(f'The number of visted page is {i} of {100}') # To inform how many pages are fetched."
   ]
  },
  {
   "cell_type": "markdown",
   "metadata": {},
   "source": [
    "<br>"
   ]
  },
  {
   "cell_type": "markdown",
   "metadata": {},
   "source": [
    "### 1.2 Load The Link of News Page"
   ]
  },
  {
   "cell_type": "markdown",
   "metadata": {},
   "source": [
    "*Note* : I have added this part to keep the result as it is obtained; otherwise, the result will be different."
   ]
  },
  {
   "cell_type": "code",
   "execution_count": 139,
   "metadata": {},
   "outputs": [
    {
     "data": {
      "text/plain": [
       "['https://arriyadiyah.com//717093',\n",
       " 'https://arriyadiyah.com//717089',\n",
       " 'https://arriyadiyah.com//717088',\n",
       " 'https://arriyadiyah.com//717084',\n",
       " 'https://arriyadiyah.com//717080']"
      ]
     },
     "execution_count": 139,
     "metadata": {},
     "output_type": "execute_result"
    }
   ],
   "source": [
    "page_link = pd.read_excel('page_links.xlsx').iloc[:,1:][0].values.tolist() # Load the page links which we have obtained early.\n",
    "\n",
    "page_link[:5] # Print the first 5 records to check."
   ]
  },
  {
   "cell_type": "markdown",
   "metadata": {},
   "source": [
    "<br>"
   ]
  },
  {
   "cell_type": "markdown",
   "metadata": {},
   "source": [
    "### 1.3 Get The News Html from The News Link"
   ]
  },
  {
   "cell_type": "code",
   "execution_count": 11,
   "metadata": {},
   "outputs": [
    {
     "name": "stdout",
     "output_type": "stream",
     "text": [
      "The number of fetched news page is 100 of 2000\n",
      "The number of fetched news page is 200 of 2000\n",
      "The number of fetched news page is 300 of 2000\n",
      "The number of fetched news page is 400 of 2000\n",
      "The number of fetched news page is 500 of 2000\n",
      "The number of fetched news page is 600 of 2000\n",
      "The number of fetched news page is 700 of 2000\n",
      "The number of fetched news page is 800 of 2000\n",
      "The number of fetched news page is 900 of 2000\n",
      "The number of fetched news page is 1000 of 2000\n",
      "The number of fetched news page is 1100 of 2000\n",
      "The number of fetched news page is 1200 of 2000\n",
      "The number of fetched news page is 1300 of 2000\n",
      "The number of fetched news page is 1400 of 2000\n",
      "The number of fetched news page is 1500 of 2000\n",
      "The number of fetched news page is 1600 of 2000\n",
      "The number of fetched news page is 1700 of 2000\n",
      "The number of fetched news page is 1800 of 2000\n",
      "The number of fetched news page is 1900 of 2000\n",
      "The number of fetched news page is 2000 of 2000\n"
     ]
    }
   ],
   "source": [
    "html_pages = [] # Define the list to hold the html of news page\n",
    "\n",
    "for i,page in enumerate(page_link):\n",
    "    \n",
    "    page_html = requests.get(page) # Get the response object of each news link.\n",
    "    \n",
    "    sleep(0.001) # Add some delay to prevent the request from blocking.\n",
    "\n",
    "    try:\n",
    "        \n",
    "        html_pages.append(page_html.text) # Add the html of news page to the list\n",
    "    except:\n",
    "        \n",
    "        html_pages.append(None) # Add none, if the html of news page is not avaliable.\n",
    "        \n",
    "    if (i+1)%100 == 0:\n",
    "            print(f'The number of fetched news page is {i+1} of {len(page_link)}') # To inform how many html of news pages are fetched."
   ]
  },
  {
   "cell_type": "markdown",
   "metadata": {},
   "source": [
    "<br>"
   ]
  },
  {
   "cell_type": "markdown",
   "metadata": {},
   "source": [
    "### 1.4 Get The Information of News From Html of News Page"
   ]
  },
  {
   "cell_type": "code",
   "execution_count": 106,
   "metadata": {},
   "outputs": [],
   "source": [
    "news_list1 = [] # Define the list to hold the news in html\n",
    "writer_list = [] # Define the list to hold the news in html\n",
    "date_news_list = [] # Define the list to hold the news in html\n",
    "time_news_list = [] # Define the list to hold the news in html\n",
    "location_news_list = [] # Define the list to hold the news in html\n",
    "title_news_list = [] # Define the list to hold the news in html\n",
    "\n",
    "for page in html_pages:\n",
    "    \n",
    "    soup = BeautifulSoup(page,'html')#'html.parser')\n",
    "\n",
    "    # Get the writer div for time, date, location and writer of news from different classes due to changes in news page.\n",
    "    date_writer = soup.find('div', attrs={'class':['internal-page-date d-flex w-100','internal-page-date']})\n",
    "\n",
    "    \n",
    "    soup_writer = BeautifulSoup(str(date_writer),'html')#'html.parser') for writer div.\n",
    "\n",
    "    # News Part\n",
    "    news = soup.find('div', attrs={'class':'internal-pages-content'}).text[:] # Get news text.\n",
    "    news_list1.append(news) # Add news text to list.\n",
    "    \n",
    "    # Title Part\n",
    "    try:\n",
    "        # Get title of news from h1 with different classes due to changes in news page.\n",
    "        title = soup.find('h1',attrs={'class':['internal-pages-title font-weight-bold d-flex align-items-center',\"internal-pages-title font-weight-bold\"]}).string\n",
    "        title_news_list.append(title) # Add title of news to title list.\n",
    "    except:\n",
    "        title_news_list.append(None) # Add none, if the title of news is not avaliable.\n",
    "\n",
    "    # Writer Part\n",
    "    try:\n",
    "        if soup_writer.find('span',attrs={'class':['px-2']}): # Check if the span with defined class or not. \n",
    "            writer = soup_writer.find('span',attrs={'class':['px-2']}).string.split('-')[1].strip() # Get the writer from span with defined class.\n",
    "        else:\n",
    "            writer = soup_writer.find('span',attrs={'class':None}).string.split('-')[1].strip() # Get the writer from span without class.\n",
    "            \n",
    "        writer_list.append(writer) # Add writer of news to writer list. \n",
    "    except:\n",
    "        writer_list.append(None) # Add none, if the writer of news is not avaliable.\n",
    "\n",
    "    # Location Part\n",
    "    try:\n",
    "        if soup_writer.find('span',attrs={'class':['px-2']}): # Check if the span with defined class or not.\n",
    "            location = soup_writer.find('span',attrs={'class':['px-2']}).string.split('-')[0].strip() # Get the location from span with defined class.\n",
    "        else:\n",
    "            location = soup_writer.find('span',attrs={'class':None}).string.split('-')[0].strip() # Get the location from span without class.\n",
    "        \n",
    "        location_news_list.append(location) # Add location of news to location list.\n",
    "    except:\n",
    "        location_news_list.append(None) # Add none, if the location of news is not avaliable.\n",
    "\n",
    "    # Time Part\n",
    "    try:\n",
    "        if soup_writer.find('span',attrs={'class':['mr-auto d-block']}): # Check if the span with defined class or not.\n",
    "            time = soup_writer.find('span',attrs={'class':['mr-auto d-block']}).string.split('|')[0].strip() # Get the time from span with defined class.\n",
    "        else:\n",
    "            time = soup_writer.find('span',attrs={'class':None}).string.split('|')[0].strip() # Get the time from span without class.\n",
    "            \n",
    "        time_news_list.append(time) # Add time of news to location list.\n",
    "    except:\n",
    "        time_news_list.append(None) # Add none, if the time of news is not avaliable.\n",
    "\n",
    "    # Date Part\n",
    "    try:\n",
    "        if soup_writer.find('span',attrs={'class':['mr-auto d-block']}): # Check if the span with defined class or not.\n",
    "            date = soup_writer.find('span',attrs={'class':['mr-auto d-block']}).string.split('|')[1].strip() # Get the date from span with defined class.\n",
    "        else:\n",
    "            date = soup_writer.find('span',attrs={'class':None}).string.split('|')[1].strip() # Get the date from span without class.\n",
    "            \n",
    "        date_news_list.append(date) # Add date of news to location list.\n",
    "    except:\n",
    "        date_news_list.append(None) # Add none, if the date of news is not avaliable."
   ]
  },
  {
   "cell_type": "markdown",
   "metadata": {},
   "source": [
    "Here we check the length of each list which must be same length for all list."
   ]
  },
  {
   "cell_type": "code",
   "execution_count": 107,
   "metadata": {},
   "outputs": [
    {
     "data": {
      "text/plain": [
       "(2000, 2000, 2000, 2000, 2000, 2000)"
      ]
     },
     "execution_count": 107,
     "metadata": {},
     "output_type": "execute_result"
    }
   ],
   "source": [
    "len(writer_list),len(time_news_list),len(title_news_list),len(news_list1),len(date_news_list),len(location_news_list)"
   ]
  },
  {
   "cell_type": "markdown",
   "metadata": {},
   "source": [
    "As a result, all list have same length so we can dataframe for data."
   ]
  },
  {
   "cell_type": "markdown",
   "metadata": {},
   "source": [
    "## 2. Create Dataframe (integrate data)"
   ]
  },
  {
   "cell_type": "code",
   "execution_count": 204,
   "metadata": {},
   "outputs": [],
   "source": [
    "df_news = pd.DataFrame({'title':title_news_list,'writer':writer_list,'location':location_news_list,'date':date_news_list,'time':time_news_list,'news':news_list1,'news_link':page_link})"
   ]
  },
  {
   "cell_type": "markdown",
   "metadata": {},
   "source": [
    "<br>"
   ]
  },
  {
   "cell_type": "markdown",
   "metadata": {},
   "source": [
    "## 3. Data Cleaning"
   ]
  },
  {
   "cell_type": "markdown",
   "metadata": {},
   "source": [
    "### 3.1 Display Data"
   ]
  },
  {
   "cell_type": "code",
   "execution_count": 172,
   "metadata": {},
   "outputs": [
    {
     "data": {
      "text/html": [
       "<div>\n",
       "<style scoped>\n",
       "    .dataframe tbody tr th:only-of-type {\n",
       "        vertical-align: middle;\n",
       "    }\n",
       "\n",
       "    .dataframe tbody tr th {\n",
       "        vertical-align: top;\n",
       "    }\n",
       "\n",
       "    .dataframe thead th {\n",
       "        text-align: right;\n",
       "    }\n",
       "</style>\n",
       "<table border=\"1\" class=\"dataframe\">\n",
       "  <thead>\n",
       "    <tr style=\"text-align: right;\">\n",
       "      <th></th>\n",
       "      <th>title</th>\n",
       "      <th>writer</th>\n",
       "      <th>location</th>\n",
       "      <th>date</th>\n",
       "      <th>time</th>\n",
       "      <th>news</th>\n",
       "      <th>news_link</th>\n",
       "    </tr>\n",
       "  </thead>\n",
       "  <tbody>\n",
       "    <tr>\n",
       "      <th>0</th>\n",
       "      <td>\\nالتعاون يعبر ضمك بـ«هاتريك» تاوامبا\\n</td>\n",
       "      <td>الرياضية</td>\n",
       "      <td>بريدة</td>\n",
       "      <td>2021.01.25</td>\n",
       "      <td>05:32</td>\n",
       "      <td>\\nقاد الكاميروني لياندر تاوامبا مهاجم فريق الت...</td>\n",
       "      <td>https://arriyadiyah.com//717093</td>\n",
       "    </tr>\n",
       "    <tr>\n",
       "      <th>1</th>\n",
       "      <td>\\nالشباب لتعزيز حظوظه بالمنافسة أمام الوحدة\\n</td>\n",
       "      <td>الرياضية</td>\n",
       "      <td>مكة المكرمة</td>\n",
       "      <td>2021.01.25</td>\n",
       "      <td>01:41</td>\n",
       "      <td>\\nيحل فريق الشباب الأول لكرة القدم، ضيفاً على ...</td>\n",
       "      <td>https://arriyadiyah.com//717089</td>\n",
       "    </tr>\n",
       "    <tr>\n",
       "      <th>2</th>\n",
       "      <td>\\nالهلال لتجديد الانفراد بالصدارة من بوابة الف...</td>\n",
       "      <td>الرياضية</td>\n",
       "      <td>الرياض</td>\n",
       "      <td>2021.01.25</td>\n",
       "      <td>01:11</td>\n",
       "      <td>\\nتتجدد طموحات الهلال بالانفراد بصدارة ترتيب د...</td>\n",
       "      <td>https://arriyadiyah.com//717088</td>\n",
       "    </tr>\n",
       "    <tr>\n",
       "      <th>3</th>\n",
       "      <td>\\nالأهلي يضرب..\\nوالأصفران يتعطلان\\n</td>\n",
       "      <td>None</td>\n",
       "      <td>الرياض ـ الرياضية</td>\n",
       "      <td>2021.01.25</td>\n",
       "      <td>12:49</td>\n",
       "      <td>\\nأنقذ البرازيلي رومارينيو لاعب فريق الاتحاد ا...</td>\n",
       "      <td>https://arriyadiyah.com//717084</td>\n",
       "    </tr>\n",
       "    <tr>\n",
       "      <th>4</th>\n",
       "      <td>\\nالبليهي..\\nيقود الهلال في السوبر\\n</td>\n",
       "      <td>None</td>\n",
       "      <td>الرياض ـ حمد الصويلحي</td>\n",
       "      <td>2021.01.25</td>\n",
       "      <td>12:41</td>\n",
       "      <td>\\nكشفت لـ “الرياضية” مصادر خاصة عن أن علي البل...</td>\n",
       "      <td>https://arriyadiyah.com//717080</td>\n",
       "    </tr>\n",
       "  </tbody>\n",
       "</table>\n",
       "</div>"
      ],
      "text/plain": [
       "                                               title    writer  \\\n",
       "0            \\nالتعاون يعبر ضمك بـ«هاتريك» تاوامبا\\n  الرياضية   \n",
       "1      \\nالشباب لتعزيز حظوظه بالمنافسة أمام الوحدة\\n  الرياضية   \n",
       "2  \\nالهلال لتجديد الانفراد بالصدارة من بوابة الف...  الرياضية   \n",
       "3               \\nالأهلي يضرب..\\nوالأصفران يتعطلان\\n      None   \n",
       "4               \\nالبليهي..\\nيقود الهلال في السوبر\\n      None   \n",
       "\n",
       "                location        date   time  \\\n",
       "0                  بريدة  2021.01.25  05:32   \n",
       "1            مكة المكرمة  2021.01.25  01:41   \n",
       "2                 الرياض  2021.01.25  01:11   \n",
       "3      الرياض ـ الرياضية  2021.01.25  12:49   \n",
       "4  الرياض ـ حمد الصويلحي  2021.01.25  12:41   \n",
       "\n",
       "                                                news  \\\n",
       "0  \\nقاد الكاميروني لياندر تاوامبا مهاجم فريق الت...   \n",
       "1  \\nيحل فريق الشباب الأول لكرة القدم، ضيفاً على ...   \n",
       "2  \\nتتجدد طموحات الهلال بالانفراد بصدارة ترتيب د...   \n",
       "3  \\nأنقذ البرازيلي رومارينيو لاعب فريق الاتحاد ا...   \n",
       "4  \\nكشفت لـ “الرياضية” مصادر خاصة عن أن علي البل...   \n",
       "\n",
       "                         news_link  \n",
       "0  https://arriyadiyah.com//717093  \n",
       "1  https://arriyadiyah.com//717089  \n",
       "2  https://arriyadiyah.com//717088  \n",
       "3  https://arriyadiyah.com//717084  \n",
       "4  https://arriyadiyah.com//717080  "
      ]
     },
     "execution_count": 172,
     "metadata": {},
     "output_type": "execute_result"
    }
   ],
   "source": [
    "df_news.head()\n",
    "# Copy"
   ]
  },
  {
   "cell_type": "markdown",
   "metadata": {},
   "source": [
    "### 3.2 How many missing value in the data?"
   ]
  },
  {
   "cell_type": "code",
   "execution_count": 173,
   "metadata": {},
   "outputs": [
    {
     "data": {
      "text/plain": [
       "title           0\n",
       "writer       1236\n",
       "location       27\n",
       "date            0\n",
       "time            0\n",
       "news            0\n",
       "news_link       0\n",
       "dtype: int64"
      ]
     },
     "execution_count": 173,
     "metadata": {},
     "output_type": "execute_result"
    }
   ],
   "source": [
    "df_news.isna().sum()"
   ]
  },
  {
   "cell_type": "markdown",
   "metadata": {},
   "source": [
    "As a result, we found the missing values in writer and location."
   ]
  },
  {
   "cell_type": "markdown",
   "metadata": {},
   "source": [
    "### 3.3 Display the missing values in writer and location fields?"
   ]
  },
  {
   "cell_type": "code",
   "execution_count": 174,
   "metadata": {},
   "outputs": [
    {
     "data": {
      "text/html": [
       "<div>\n",
       "<style scoped>\n",
       "    .dataframe tbody tr th:only-of-type {\n",
       "        vertical-align: middle;\n",
       "    }\n",
       "\n",
       "    .dataframe tbody tr th {\n",
       "        vertical-align: top;\n",
       "    }\n",
       "\n",
       "    .dataframe thead th {\n",
       "        text-align: right;\n",
       "    }\n",
       "</style>\n",
       "<table border=\"1\" class=\"dataframe\">\n",
       "  <thead>\n",
       "    <tr style=\"text-align: right;\">\n",
       "      <th></th>\n",
       "      <th>title</th>\n",
       "      <th>writer</th>\n",
       "      <th>location</th>\n",
       "      <th>date</th>\n",
       "      <th>time</th>\n",
       "      <th>news</th>\n",
       "      <th>news_link</th>\n",
       "    </tr>\n",
       "  </thead>\n",
       "  <tbody>\n",
       "    <tr>\n",
       "      <th>195</th>\n",
       "      <td>\\nالهلال يتصدر.. والنصر يقفز\\n</td>\n",
       "      <td>None</td>\n",
       "      <td>None</td>\n",
       "      <td>2021.01.21</td>\n",
       "      <td>01:37</td>\n",
       "      <td>\\nسلك فريق الهلال الأول لكرة القدم المسار الأك...</td>\n",
       "      <td>https://arriyadiyah.com//716589</td>\n",
       "    </tr>\n",
       "    <tr>\n",
       "      <th>714</th>\n",
       "      <td>\\nسعود\\nيتسلم الجائزة\\n</td>\n",
       "      <td>None</td>\n",
       "      <td>None</td>\n",
       "      <td>2021.01.10</td>\n",
       "      <td>01:05</td>\n",
       "      <td>\\nتسلم سعود عبد الحميد لاعب فريق الاتحاد الأول...</td>\n",
       "      <td>https://arriyadiyah.com//715293</td>\n",
       "    </tr>\n",
       "    <tr>\n",
       "      <th>715</th>\n",
       "      <td>\\nالأمطار\\nتؤجل الانطلاقة\\n</td>\n",
       "      <td>None</td>\n",
       "      <td>None</td>\n",
       "      <td>2021.01.10</td>\n",
       "      <td>01:05</td>\n",
       "      <td>\\nأجبرت الأمطار الغزيرة التي هطلت على ملعب مدي...</td>\n",
       "      <td>https://arriyadiyah.com//715292</td>\n",
       "    </tr>\n",
       "    <tr>\n",
       "      <th>764</th>\n",
       "      <td>\\nأسبريلا ..تخصص\\n</td>\n",
       "      <td>None</td>\n",
       "      <td>None</td>\n",
       "      <td>2021.01.09</td>\n",
       "      <td>01:06</td>\n",
       "      <td>\\nواصل الكولومبي دانيلو أسبريلا، جناح فريق الق...</td>\n",
       "      <td>https://arriyadiyah.com//715171</td>\n",
       "    </tr>\n",
       "    <tr>\n",
       "      <th>765</th>\n",
       "      <td>\\nابن دعرم:\\nالعويس أشعل الشرارة\\n</td>\n",
       "      <td>None</td>\n",
       "      <td>None</td>\n",
       "      <td>2021.01.09</td>\n",
       "      <td>01:06</td>\n",
       "      <td>\\nحمَّل علي بن دعرم، المتحدث الرسمي لنادي القا...</td>\n",
       "      <td>https://arriyadiyah.com//715170</td>\n",
       "    </tr>\n",
       "  </tbody>\n",
       "</table>\n",
       "</div>"
      ],
      "text/plain": [
       "                                  title writer location        date   time  \\\n",
       "195      \\nالهلال يتصدر.. والنصر يقفز\\n   None     None  2021.01.21  01:37   \n",
       "714             \\nسعود\\nيتسلم الجائزة\\n   None     None  2021.01.10  01:05   \n",
       "715         \\nالأمطار\\nتؤجل الانطلاقة\\n   None     None  2021.01.10  01:05   \n",
       "764                  \\nأسبريلا ..تخصص\\n   None     None  2021.01.09  01:06   \n",
       "765  \\nابن دعرم:\\nالعويس أشعل الشرارة\\n   None     None  2021.01.09  01:06   \n",
       "\n",
       "                                                  news  \\\n",
       "195  \\nسلك فريق الهلال الأول لكرة القدم المسار الأك...   \n",
       "714  \\nتسلم سعود عبد الحميد لاعب فريق الاتحاد الأول...   \n",
       "715  \\nأجبرت الأمطار الغزيرة التي هطلت على ملعب مدي...   \n",
       "764  \\nواصل الكولومبي دانيلو أسبريلا، جناح فريق الق...   \n",
       "765  \\nحمَّل علي بن دعرم، المتحدث الرسمي لنادي القا...   \n",
       "\n",
       "                           news_link  \n",
       "195  https://arriyadiyah.com//716589  \n",
       "714  https://arriyadiyah.com//715293  \n",
       "715  https://arriyadiyah.com//715292  \n",
       "764  https://arriyadiyah.com//715171  \n",
       "765  https://arriyadiyah.com//715170  "
      ]
     },
     "execution_count": 174,
     "metadata": {},
     "output_type": "execute_result"
    }
   ],
   "source": [
    "df_news[df_news.location.isna()].head()"
   ]
  },
  {
   "cell_type": "markdown",
   "metadata": {},
   "source": [
    "Those missing values will be filled by using news link manually."
   ]
  },
  {
   "cell_type": "code",
   "execution_count": 175,
   "metadata": {},
   "outputs": [
    {
     "data": {
      "text/html": [
       "<div>\n",
       "<style scoped>\n",
       "    .dataframe tbody tr th:only-of-type {\n",
       "        vertical-align: middle;\n",
       "    }\n",
       "\n",
       "    .dataframe tbody tr th {\n",
       "        vertical-align: top;\n",
       "    }\n",
       "\n",
       "    .dataframe thead th {\n",
       "        text-align: right;\n",
       "    }\n",
       "</style>\n",
       "<table border=\"1\" class=\"dataframe\">\n",
       "  <thead>\n",
       "    <tr style=\"text-align: right;\">\n",
       "      <th></th>\n",
       "      <th>title</th>\n",
       "      <th>writer</th>\n",
       "      <th>location</th>\n",
       "      <th>date</th>\n",
       "      <th>time</th>\n",
       "      <th>news</th>\n",
       "      <th>news_link</th>\n",
       "    </tr>\n",
       "  </thead>\n",
       "  <tbody>\n",
       "    <tr>\n",
       "      <th>3</th>\n",
       "      <td>\\nالأهلي يضرب..\\nوالأصفران يتعطلان\\n</td>\n",
       "      <td>None</td>\n",
       "      <td>الرياض ـ الرياضية</td>\n",
       "      <td>2021.01.25</td>\n",
       "      <td>12:49</td>\n",
       "      <td>\\nأنقذ البرازيلي رومارينيو لاعب فريق الاتحاد ا...</td>\n",
       "      <td>https://arriyadiyah.com//717084</td>\n",
       "    </tr>\n",
       "    <tr>\n",
       "      <th>4</th>\n",
       "      <td>\\nالبليهي..\\nيقود الهلال في السوبر\\n</td>\n",
       "      <td>None</td>\n",
       "      <td>الرياض ـ حمد الصويلحي</td>\n",
       "      <td>2021.01.25</td>\n",
       "      <td>12:41</td>\n",
       "      <td>\\nكشفت لـ “الرياضية” مصادر خاصة عن أن علي البل...</td>\n",
       "      <td>https://arriyadiyah.com//717080</td>\n",
       "    </tr>\n",
       "    <tr>\n",
       "      <th>5</th>\n",
       "      <td>\\nرايحي\\nيظهر بعد 6 أيام\\n</td>\n",
       "      <td>None</td>\n",
       "      <td>حفر الباطن ـ طلال القطيني</td>\n",
       "      <td>2021.01.25</td>\n",
       "      <td>12:40</td>\n",
       "      <td>\\nأكدت لـ “الرياضية” مصادر خاصة أن الهولندي مح...</td>\n",
       "      <td>https://arriyadiyah.com//717079</td>\n",
       "    </tr>\n",
       "    <tr>\n",
       "      <th>6</th>\n",
       "      <td>\\nالاجتماع 12.. أول أعمال الطريفي\\n</td>\n",
       "      <td>None</td>\n",
       "      <td>الرياض ـ عبد الرحمن مشبب</td>\n",
       "      <td>2021.01.25</td>\n",
       "      <td>12:39</td>\n",
       "      <td>\\nينتظر حضور الدولي علي الطريفي اجتماع حكام دو...</td>\n",
       "      <td>https://arriyadiyah.com//717078</td>\n",
       "    </tr>\n",
       "    <tr>\n",
       "      <th>7</th>\n",
       "      <td>\\nألفاظ بذيئة..\\nتعاقب تسوناكاس\\n</td>\n",
       "      <td>None</td>\n",
       "      <td>الرياض ـ الرياضية</td>\n",
       "      <td>2021.01.25</td>\n",
       "      <td>12:38</td>\n",
       "      <td>\\nعاقبت لجنة الانضباط في الاتحاد السعودي لكرة ...</td>\n",
       "      <td>https://arriyadiyah.com//717077</td>\n",
       "    </tr>\n",
       "  </tbody>\n",
       "</table>\n",
       "</div>"
      ],
      "text/plain": [
       "                                  title writer                   location  \\\n",
       "3  \\nالأهلي يضرب..\\nوالأصفران يتعطلان\\n   None          الرياض ـ الرياضية   \n",
       "4  \\nالبليهي..\\nيقود الهلال في السوبر\\n   None      الرياض ـ حمد الصويلحي   \n",
       "5            \\nرايحي\\nيظهر بعد 6 أيام\\n   None  حفر الباطن ـ طلال القطيني   \n",
       "6   \\nالاجتماع 12.. أول أعمال الطريفي\\n   None   الرياض ـ عبد الرحمن مشبب   \n",
       "7     \\nألفاظ بذيئة..\\nتعاقب تسوناكاس\\n   None          الرياض ـ الرياضية   \n",
       "\n",
       "         date   time                                               news  \\\n",
       "3  2021.01.25  12:49  \\nأنقذ البرازيلي رومارينيو لاعب فريق الاتحاد ا...   \n",
       "4  2021.01.25  12:41  \\nكشفت لـ “الرياضية” مصادر خاصة عن أن علي البل...   \n",
       "5  2021.01.25  12:40  \\nأكدت لـ “الرياضية” مصادر خاصة أن الهولندي مح...   \n",
       "6  2021.01.25  12:39  \\nينتظر حضور الدولي علي الطريفي اجتماع حكام دو...   \n",
       "7  2021.01.25  12:38  \\nعاقبت لجنة الانضباط في الاتحاد السعودي لكرة ...   \n",
       "\n",
       "                         news_link  \n",
       "3  https://arriyadiyah.com//717084  \n",
       "4  https://arriyadiyah.com//717080  \n",
       "5  https://arriyadiyah.com//717079  \n",
       "6  https://arriyadiyah.com//717078  \n",
       "7  https://arriyadiyah.com//717077  "
      ]
     },
     "execution_count": 175,
     "metadata": {},
     "output_type": "execute_result"
    }
   ],
   "source": [
    "df_news[df_news.writer.isna()].head()"
   ]
  },
  {
   "cell_type": "markdown",
   "metadata": {},
   "source": [
    "Those missing values will be filled by splitting value of location as we have seen. "
   ]
  },
  {
   "cell_type": "markdown",
   "metadata": {},
   "source": [
    "### 3.4 Fill the missing values in writer and correct location fields"
   ]
  },
  {
   "cell_type": "code",
   "execution_count": 205,
   "metadata": {},
   "outputs": [],
   "source": [
    "# Get indexs of missing value in writer field\n",
    "null_writer_index = df_news[df_news.writer.isna()].index.tolist()\n",
    "\n",
    "# Define value_writer variable to hold the value of writer in location field by splitting \n",
    "value_writer = df_news[df_news.writer.isna()].location.map(lambda location: str(location).split('ـ')[-1].strip())\n",
    "\n",
    "# Define value_location variable to hold the correct value of location in location field splitting\n",
    "value_location = df_news[df_news.writer.isna()].location.map(lambda location: str(location).split('ـ')[0].strip())\n",
    "\n",
    "# Fill the missing va+lues by defined variable value_writer\n",
    "df_news.writer.fillna(value_writer,inplace=True)\n",
    "\n",
    "# Fill the incorrect values of location by defined variable value_location \n",
    "# and indexs of missing value in writer field \n",
    "df_news.loc[null_writer_index,'location'] = value_location\n",
    "\n",
    "# The rest missing value in writer and location will fill by using news link manually"
   ]
  },
  {
   "cell_type": "code",
   "execution_count": 177,
   "metadata": {},
   "outputs": [
    {
     "data": {
      "text/plain": [
       "title        0\n",
       "writer       0\n",
       "location     0\n",
       "date         0\n",
       "time         0\n",
       "news         0\n",
       "news_link    0\n",
       "dtype: int64"
      ]
     },
     "execution_count": 177,
     "metadata": {},
     "output_type": "execute_result"
    }
   ],
   "source": [
    "df_news.isna().sum()"
   ]
  },
  {
   "cell_type": "markdown",
   "metadata": {},
   "source": [
    "According to the result, there is no missing, but there are values as None and it is not counted."
   ]
  },
  {
   "cell_type": "markdown",
   "metadata": {},
   "source": [
    "### 3.5 Correct the date field"
   ]
  },
  {
   "cell_type": "code",
   "execution_count": 206,
   "metadata": {},
   "outputs": [],
   "source": [
    "# Replace the '.' with '-' to make date more clear and able to use in processing\n",
    "df_news.date = df_news.date.map(lambda x: x.replace('.','-'))"
   ]
  },
  {
   "cell_type": "code",
   "execution_count": 179,
   "metadata": {},
   "outputs": [
    {
     "data": {
      "text/html": [
       "<div>\n",
       "<style scoped>\n",
       "    .dataframe tbody tr th:only-of-type {\n",
       "        vertical-align: middle;\n",
       "    }\n",
       "\n",
       "    .dataframe tbody tr th {\n",
       "        vertical-align: top;\n",
       "    }\n",
       "\n",
       "    .dataframe thead th {\n",
       "        text-align: right;\n",
       "    }\n",
       "</style>\n",
       "<table border=\"1\" class=\"dataframe\">\n",
       "  <thead>\n",
       "    <tr style=\"text-align: right;\">\n",
       "      <th></th>\n",
       "      <th>title</th>\n",
       "      <th>writer</th>\n",
       "      <th>location</th>\n",
       "      <th>date</th>\n",
       "      <th>time</th>\n",
       "      <th>news</th>\n",
       "      <th>news_link</th>\n",
       "    </tr>\n",
       "  </thead>\n",
       "  <tbody>\n",
       "    <tr>\n",
       "      <th>0</th>\n",
       "      <td>\\nالتعاون يعبر ضمك بـ«هاتريك» تاوامبا\\n</td>\n",
       "      <td>الرياضية</td>\n",
       "      <td>بريدة</td>\n",
       "      <td>2021-01-25</td>\n",
       "      <td>05:32</td>\n",
       "      <td>\\nقاد الكاميروني لياندر تاوامبا مهاجم فريق الت...</td>\n",
       "      <td>https://arriyadiyah.com//717093</td>\n",
       "    </tr>\n",
       "    <tr>\n",
       "      <th>1</th>\n",
       "      <td>\\nالشباب لتعزيز حظوظه بالمنافسة أمام الوحدة\\n</td>\n",
       "      <td>الرياضية</td>\n",
       "      <td>مكة المكرمة</td>\n",
       "      <td>2021-01-25</td>\n",
       "      <td>01:41</td>\n",
       "      <td>\\nيحل فريق الشباب الأول لكرة القدم، ضيفاً على ...</td>\n",
       "      <td>https://arriyadiyah.com//717089</td>\n",
       "    </tr>\n",
       "    <tr>\n",
       "      <th>2</th>\n",
       "      <td>\\nالهلال لتجديد الانفراد بالصدارة من بوابة الف...</td>\n",
       "      <td>الرياضية</td>\n",
       "      <td>الرياض</td>\n",
       "      <td>2021-01-25</td>\n",
       "      <td>01:11</td>\n",
       "      <td>\\nتتجدد طموحات الهلال بالانفراد بصدارة ترتيب د...</td>\n",
       "      <td>https://arriyadiyah.com//717088</td>\n",
       "    </tr>\n",
       "    <tr>\n",
       "      <th>3</th>\n",
       "      <td>\\nالأهلي يضرب..\\nوالأصفران يتعطلان\\n</td>\n",
       "      <td>الرياضية</td>\n",
       "      <td>الرياض</td>\n",
       "      <td>2021-01-25</td>\n",
       "      <td>12:49</td>\n",
       "      <td>\\nأنقذ البرازيلي رومارينيو لاعب فريق الاتحاد ا...</td>\n",
       "      <td>https://arriyadiyah.com//717084</td>\n",
       "    </tr>\n",
       "    <tr>\n",
       "      <th>4</th>\n",
       "      <td>\\nالبليهي..\\nيقود الهلال في السوبر\\n</td>\n",
       "      <td>حمد الصويلحي</td>\n",
       "      <td>الرياض</td>\n",
       "      <td>2021-01-25</td>\n",
       "      <td>12:41</td>\n",
       "      <td>\\nكشفت لـ “الرياضية” مصادر خاصة عن أن علي البل...</td>\n",
       "      <td>https://arriyadiyah.com//717080</td>\n",
       "    </tr>\n",
       "  </tbody>\n",
       "</table>\n",
       "</div>"
      ],
      "text/plain": [
       "                                               title        writer  \\\n",
       "0            \\nالتعاون يعبر ضمك بـ«هاتريك» تاوامبا\\n      الرياضية   \n",
       "1      \\nالشباب لتعزيز حظوظه بالمنافسة أمام الوحدة\\n      الرياضية   \n",
       "2  \\nالهلال لتجديد الانفراد بالصدارة من بوابة الف...      الرياضية   \n",
       "3               \\nالأهلي يضرب..\\nوالأصفران يتعطلان\\n      الرياضية   \n",
       "4               \\nالبليهي..\\nيقود الهلال في السوبر\\n  حمد الصويلحي   \n",
       "\n",
       "      location        date   time  \\\n",
       "0        بريدة  2021-01-25  05:32   \n",
       "1  مكة المكرمة  2021-01-25  01:41   \n",
       "2       الرياض  2021-01-25  01:11   \n",
       "3       الرياض  2021-01-25  12:49   \n",
       "4       الرياض  2021-01-25  12:41   \n",
       "\n",
       "                                                news  \\\n",
       "0  \\nقاد الكاميروني لياندر تاوامبا مهاجم فريق الت...   \n",
       "1  \\nيحل فريق الشباب الأول لكرة القدم، ضيفاً على ...   \n",
       "2  \\nتتجدد طموحات الهلال بالانفراد بصدارة ترتيب د...   \n",
       "3  \\nأنقذ البرازيلي رومارينيو لاعب فريق الاتحاد ا...   \n",
       "4  \\nكشفت لـ “الرياضية” مصادر خاصة عن أن علي البل...   \n",
       "\n",
       "                         news_link  \n",
       "0  https://arriyadiyah.com//717093  \n",
       "1  https://arriyadiyah.com//717089  \n",
       "2  https://arriyadiyah.com//717088  \n",
       "3  https://arriyadiyah.com//717084  \n",
       "4  https://arriyadiyah.com//717080  "
      ]
     },
     "execution_count": 179,
     "metadata": {},
     "output_type": "execute_result"
    }
   ],
   "source": [
    "df_news.head()"
   ]
  },
  {
   "cell_type": "markdown",
   "metadata": {},
   "source": [
    "<br>"
   ]
  },
  {
   "cell_type": "markdown",
   "metadata": {},
   "source": [
    "### 3.6 Display The Least Frequent Writer and Location"
   ]
  },
  {
   "cell_type": "code",
   "execution_count": 195,
   "metadata": {},
   "outputs": [
    {
     "data": {
      "text/plain": [
       "حسين الخيواني الرياض                                 1\n",
       "مشعل العتيبي و عبدالله أحمد                          1\n",
       "حمد الصويلحي وعبدالإله المرحوم                       1\n",
       "ماجد هود ومشعل العتيبي الرياض                        1\n",
       "متعب العبد الهادي وأحمد الخلف                        1\n",
       "عبد الرحمن محروس                                     1\n",
       "تغطية: عبد الرحمن أبو محروس وعبد الله العبيد         1\n",
       "تغطية: عبدالرحمن أبو محروس                           1\n",
       "أحمد الخلف ، متعب العبد الهادي ،عبد الإله المرحوم    1\n",
       "أحمد عبدالله                                         1\n",
       "ود                                                   1\n",
       "متعب العبد الهادي وبندر العتيبي                      1\n",
       "علي خمج                                              1\n",
       "هاني السليس                                          1\n",
       "بندر العتيبي وخالد الرشيد                            1\n",
       "تغطية: حسين الخيواني                                 1\n",
       "علي حدادي                                            1\n",
       "تغطية: نايف البدراني                                 1\n",
       "نواف الحزيم                                          1\n",
       "Name: writer, dtype: int64"
      ]
     },
     "execution_count": 195,
     "metadata": {},
     "output_type": "execute_result"
    }
   ],
   "source": [
    "df_news.writer.value_counts()[-20:-1]"
   ]
  },
  {
   "cell_type": "markdown",
   "metadata": {},
   "source": [
    "As a result, we find some value which are typos so we will fix it."
   ]
  },
  {
   "cell_type": "code",
   "execution_count": 198,
   "metadata": {},
   "outputs": [
    {
     "data": {
      "text/plain": [
       "الصياهد                                         1\n",
       "‏ الرياض                                        1\n",
       "‫ أبها                                          1\n",
       "الرياض – حسن الحسن                              1\n",
       "تغطية: وليد الصيعري وحسين الخيواني              1\n",
       "مكة المكرمة – عبد الغني عوض                     1\n",
       "مسقط                                            1\n",
       "حفرالباطن                                       1\n",
       "تغطية: نايف البدراني                            1\n",
       "تغطية: حسين الخيواني                            1\n",
       "الإحساء                                         1\n",
       "تغطية: عبدالرحمن أبو محروس                      1\n",
       "تغطية: عبد الرحمن أبو محروس وعبد الله العبيد    1\n",
       "روما                                            1\n",
       "بربدة                                           1\n",
       "جدة فيصل الشريف                                 1\n",
       "برلين                                           1\n",
       "زيورخ                                           1\n",
       "تقرير: محمود وهبي                               1\n",
       "Name: location, dtype: int64"
      ]
     },
     "execution_count": 198,
     "metadata": {},
     "output_type": "execute_result"
    }
   ],
   "source": [
    "df_news.location.value_counts()[-20:-1]"
   ]
  },
  {
   "cell_type": "markdown",
   "metadata": {},
   "source": [
    "As a result, it will fix it like writer."
   ]
  },
  {
   "cell_type": "markdown",
   "metadata": {},
   "source": [
    "<br>"
   ]
  },
  {
   "cell_type": "markdown",
   "metadata": {},
   "source": [
    "### 3.7 Fix The typos in Writer and Location"
   ]
  },
  {
   "cell_type": "code",
   "execution_count": 207,
   "metadata": {},
   "outputs": [],
   "source": [
    "# The typos fixed by removing unwanted words and splitting the special character\n",
    "df_news.location = df_news.location.map(lambda x: x.split('–')[0].strip() if '–' in x else x)\n",
    "df_news.writer = df_news.writer.map(lambda x: x.replace('تغطية:','').strip() if 'تغطية:' in x else x)\n",
    "df_news.writer = df_news.writer.map(lambda x: x.replace('تقرير:','').strip() if 'تقرير:' in x else x)\n",
    "df_news.writer = df_news.writer.map(lambda x: x.split('–')[1].strip() if '–' in x else x)\n",
    "df_news.writer.replace(to_replace='^جدة فيصل الشريف$',value='فيصل الشريف',inplace=True,regex=True)\n",
    "df_news.writer.replace(to_replace='^بندر العتيبي وسلطان العتيبي جدة$',value='بندر العتيبي وسلطان العتيبي',inplace=True,regex=True)\n",
    "df_news.writer.replace(to_replace='^ماجد هود ومشعل العتيبي الرياض$',value='ماجد هود ومشعل العتيبي',inplace=True,regex=True)\n",
    "df_news.writer.replace(to_replace='^حسين الخيواني الرياض$',value='حسين الخيواني',inplace=True,regex=True)"
   ]
  },
  {
   "cell_type": "code",
   "execution_count": 200,
   "metadata": {},
   "outputs": [
    {
     "data": {
      "text/plain": [
       "عبد الرحمن مشبب وحواس العايد             1\n",
       "بندر العتيبي وسلطان العتيبي              1\n",
       "رويترز                                   1\n",
       "محمد الجارالله                           1\n",
       "خالد الرشيد وحواس العايد                 1\n",
       "متعب العبد الهادي وأحمد الخلف            1\n",
       "مصعب العمار                              1\n",
       "عبد المحسن القباني                       1\n",
       "حسن ذيبان ‫ ‬                            1\n",
       "بشير صالح                                1\n",
       "ماجد هود ومشعل العتيبي                   1\n",
       "بندر العتيبي وخالد الرشيد                1\n",
       "هاني السليس                              1\n",
       "عبد الرحمن أبو محروس وعبد الله العبيد    1\n",
       "ود                                       1\n",
       "أحمد عبدالله                             1\n",
       "وليد الصيعري وحسين الخيواني              1\n",
       "علي حدادي                                1\n",
       "عبد الرحمن محروس                         1\n",
       "Name: writer, dtype: int64"
      ]
     },
     "execution_count": 200,
     "metadata": {},
     "output_type": "execute_result"
    }
   ],
   "source": [
    "df_news.writer.value_counts()[-20:-1]"
   ]
  },
  {
   "cell_type": "markdown",
   "metadata": {},
   "source": [
    "The most of typos in writer are handled and the remaining typos will handle later."
   ]
  },
  {
   "cell_type": "code",
   "execution_count": 209,
   "metadata": {},
   "outputs": [],
   "source": [
    "# Replace the typos in location by using regex\n",
    "df_news.location.replace(to_replace='^جدة فيصل الشريف$',value='جدة',inplace=True,regex=True)\n",
    "df_news.location.replace(to_replace='^أبها$|^أيها$|‫ أبها',value='أبها',inplace=True,regex=True)\n",
    "df_news.location.replace(to_replace='^الباطن$|^حفرالباطن$',value='حفر الباطن',inplace=True,regex=True)\n",
    "df_news.location.replace(to_replace='‏ الرياض',value='الرياض',inplace=True,regex=True)\n",
    "df_news.location.replace(to_replace='^الإحساء$',value='الأحساء',inplace=True,regex=True)"
   ]
  },
  {
   "cell_type": "code",
   "execution_count": 211,
   "metadata": {},
   "outputs": [
    {
     "data": {
      "text/plain": [
       "تغطية: عبد الغني عوض                            2\n",
       "برشلونة                                         2\n",
       "تقرير: محمود وهبي                               1\n",
       "مسقط                                            1\n",
       "المنامة                                         1\n",
       "تغطية: عبد الرحمن أبو محروس                     1\n",
       "تغطية: سلطان العتيبي                            1\n",
       "الصياهد                                         1\n",
       "واس                                             1\n",
       "تغطية: وليد الصيعري وحسين الخيواني              1\n",
       "تغطية: نايف البدراني                            1\n",
       "برلين                                           1\n",
       "تغطية: حسين الخيواني                            1\n",
       "تغطية: عبد الرحمن أبو محروس وعبد الله العبيد    1\n",
       "تغطية: عبدالرحمن أبو محروس                      1\n",
       "روما                                            1\n",
       "زيورخ                                           1\n",
       "بربدة                                           1\n",
       "تغطية: طلال القطيني                             1\n",
       "Name: location, dtype: int64"
      ]
     },
     "execution_count": 211,
     "metadata": {},
     "output_type": "execute_result"
    }
   ],
   "source": [
    "df_news.location.value_counts()[-20:-1]"
   ]
  },
  {
   "cell_type": "markdown",
   "metadata": {},
   "source": [
    "The most of typos in location are handled and the remaining typos will handle later."
   ]
  },
  {
   "cell_type": "code",
   "execution_count": 212,
   "metadata": {},
   "outputs": [],
   "source": [
    "# Define the list to hold boolean value to find the index of value of location which has 'تغطية:' and 'تقرير:'\n",
    "val  = [ 'تغطية:' in loc or 'تقرير:' in loc for loc in df_news.location.values.tolist()]\n",
    "\n",
    "# Get index of location which has 'تغطية:' and 'تقرير:' to replace it with None by using defined list\n",
    "incorrect_location_index = df_news[val].index.tolist()\n",
    "\n",
    "# Replace the rows which has 'تغطية:' and 'تقرير:' with None\n",
    "df_news.loc[incorrect_location_index,'location'] = None"
   ]
  },
  {
   "cell_type": "code",
   "execution_count": 216,
   "metadata": {},
   "outputs": [
    {
     "data": {
      "text/plain": [
       "None               27\n",
       "عرعر               22\n",
       "المدينة المنورة    13\n",
       "الخبر              13\n",
       "القاهرة            11\n",
       "الباحة              7\n",
       "الرس                6\n",
       "كوالالمبور          4\n",
       "حائل                3\n",
       "الخرج               3\n",
       "برشلونة             2\n",
       "بربدة               1\n",
       "المنامة             1\n",
       "برلين               1\n",
       "الصياهد             1\n",
       "زيورخ               1\n",
       "روما                1\n",
       "مسقط                1\n",
       "واس                 1\n",
       "Name: location, dtype: int64"
      ]
     },
     "execution_count": 216,
     "metadata": {},
     "output_type": "execute_result"
    }
   ],
   "source": [
    "df_news.location.value_counts()[-20:-1]"
   ]
  },
  {
   "cell_type": "markdown",
   "metadata": {},
   "source": [
    "The most of typos in location are handled and the None value will be handled later."
   ]
  },
  {
   "cell_type": "code",
   "execution_count": 165,
   "metadata": {},
   "outputs": [
    {
     "data": {
      "text/plain": [
       "متعب العبد الهادي وبندر العتيبي                      1\n",
       "أحمد الخلف ، متعب العبد الهادي ،عبد الإله المرحوم    1\n",
       "حمد الصويلحي وعبدالإله المرحوم                       1\n",
       "مشعل العتيبي و عبدالله أحمد                          1\n",
       "جدة فيصل الشريف                                      1\n",
       "محمد الجارالله                                       1\n",
       "حسين الخيواني الرياض                                 1\n",
       "مصعب العمار                                          1\n",
       "عبد المحسن القباني                                   1\n",
       "هاني السليس                                          1\n",
       "بشير صالح                                            1\n",
       "حسن ذيبان ‫ ‬                                        1\n",
       "عبد الرحمن أبو محروس وعبد الله العبيد                1\n",
       "ماجد هود ومشعل العتيبي الرياض                        1\n",
       "علي حدادي                                            1\n",
       "عبد الرحمن محروس                                     1\n",
       "وليد الصيعري وحسين الخيواني                          1\n",
       "أحمد عبدالله                                         1\n",
       "ود                                                   1\n",
       "Name: writer, dtype: int64"
      ]
     },
     "execution_count": 165,
     "metadata": {},
     "output_type": "execute_result"
    }
   ],
   "source": [
    "df_news.writer.value_counts()[-20:-1]"
   ]
  },
  {
   "cell_type": "markdown",
   "metadata": {},
   "source": [
    "<br>"
   ]
  },
  {
   "cell_type": "markdown",
   "metadata": {},
   "source": [
    "## 4. Data Processing"
   ]
  },
  {
   "cell_type": "code",
   "execution_count": 221,
   "metadata": {},
   "outputs": [
    {
     "name": "stdout",
     "output_type": "stream",
     "text": [
      "The number of words in dictionary is  19122\n"
     ]
    }
   ],
   "source": [
    "# Instantiate CountVectorizer\n",
    "cv_news = CountVectorizer()\n",
    "\n",
    "# Fit the news with CountVectorizer\n",
    "bow = cv_news.fit(df_news.news)\n",
    "\n",
    "# Use vocabulary_ attribute to show number words in feature dictionary\n",
    "print('The number of words in dictionary is ',len(bow.vocabulary_))"
   ]
  },
  {
   "cell_type": "code",
   "execution_count": 222,
   "metadata": {},
   "outputs": [
    {
     "name": "stdout",
     "output_type": "stream",
     "text": [
      "The number of words in dictionary is  3042\n"
     ]
    }
   ],
   "source": [
    "# Instantiate CountVectorizer\n",
    "cv_title = CountVectorizer()\n",
    "\n",
    "# Fit the news title with CountVectorizer\n",
    "bow = cv_title.fit(df_news.title)\n",
    "\n",
    "# Use vocabulary_ attribute to show number words in feature dictionary\n",
    "print('The number of words in dictionary is ',len(bow.vocabulary_))"
   ]
  },
  {
   "cell_type": "code",
   "execution_count": 218,
   "metadata": {},
   "outputs": [],
   "source": [
    "stop_words = stopwords.words('arabic') # defining stop_words\n",
    "stop_words.remove('لا') # removing لا from stop_words\n",
    "\n",
    "stop_words1 = [] # define the list that contains defined stop words with و\n",
    "\n",
    "for word in stop_words:\n",
    "    stop_words1.append('و'+word)\n",
    "    \n",
    "stop_words = stop_words1+stop_words # merge the modified stop words with original stop words\n",
    "\n",
    "\n",
    "def data_preprocessing(news):\n",
    "    # data cleaning\n",
    "    news = re.sub(re.compile('<.*?>'), '', news)  # removing html tags\n",
    "    news = araby.strip_tashkeel(news) # removing the tashkeel from letters\n",
    "    news = re.sub('[^\\u0621-\\u064A\\s0-9]+', ' ', news)               # taking only words\n",
    "    news = re.sub('\\s',' ' ,news) \n",
    "    news = re.sub('الـ','',news) # Removing this character\n",
    "    news = re.sub('لـ','',news) # Removing this character\n",
    "    news = re.sub('بـ','',news) # Removing this character\n",
    "    \n",
    "    # tokenization\n",
    "    tokens = araby.tokenize(news)\n",
    "\n",
    "    # stop words removal\n",
    "    news = [word for word in tokens if word not in stop_words]\n",
    "\n",
    "    # join words in preprocessed review\n",
    "    news = ' '.join(news)\n",
    "\n",
    "    return news"
   ]
  },
  {
   "cell_type": "code",
   "execution_count": 219,
   "metadata": {},
   "outputs": [],
   "source": [
    "df_news1 = df_news.copy()\n",
    "# Use data_preprocessing function to remove the stop words\n",
    "df_news1['news'] = df_news1['news'].apply(lambda news: data_preprocessing(news))\n",
    "df_news1['title'] = df_news1['title'].apply(lambda title: data_preprocessing(title))"
   ]
  },
  {
   "cell_type": "code",
   "execution_count": 223,
   "metadata": {},
   "outputs": [
    {
     "name": "stdout",
     "output_type": "stream",
     "text": [
      "The number of words after preprocessing in dictionary is 18676\n",
      "It is smaller than the pervious one\n"
     ]
    }
   ],
   "source": [
    "# Fit the cleaned news with CountVectorizer\n",
    "bow_cleaned_news = cv_news.fit(df_news1.news)\n",
    "\n",
    "# Use vocabulary_ attribute to show number cleaned words in feature dictionary\n",
    "print(f'The number of words after preprocessing in dictionary is {len(bow_cleaned_news.vocabulary_)}\\nIt is smaller than the pervious one')"
   ]
  },
  {
   "cell_type": "code",
   "execution_count": 224,
   "metadata": {},
   "outputs": [
    {
     "name": "stdout",
     "output_type": "stream",
     "text": [
      "The number of words after preprocessing in dictionary is 2966\n",
      "It is smaller than the pervious one\n"
     ]
    }
   ],
   "source": [
    "# Fit the cleaned news with CountVectorizer\n",
    "bow_cleaned_title = cv_title.fit(df_news1.title)\n",
    "\n",
    "# Use vocabulary_ attribute to show number cleaned words in feature dictionary\n",
    "print(f'The number of words after preprocessing in dictionary is {len(bow_cleaned_title.vocabulary_)}\\nIt is smaller than the pervious one')"
   ]
  },
  {
   "cell_type": "markdown",
   "metadata": {},
   "source": [
    "<br>"
   ]
  },
  {
   "cell_type": "markdown",
   "metadata": {},
   "source": [
    "We will save the cleaned dataset to handle missing values manually."
   ]
  },
  {
   "cell_type": "code",
   "execution_count": 291,
   "metadata": {},
   "outputs": [],
   "source": [
    "df_news1.to_excel('cleaned_dataset_v1.xlsx',index=False)"
   ]
  },
  {
   "cell_type": "markdown",
   "metadata": {},
   "source": [
    "The missing values have been done and add label to each news based-on content:\n",
    "- '0' that means the news are informative about teams.\n",
    "- '1' that means the news related to the match.\n",
    "- '2' that means the news are general not specific on teams"
   ]
  },
  {
   "cell_type": "code",
   "execution_count": 274,
   "metadata": {},
   "outputs": [],
   "source": [
    "df_news2 = pd.read_csv('news_dataset.csv',)\n",
    "df_news2['class'] = df_news2['class'].astype('object') # Change the type of class to object"
   ]
  },
  {
   "cell_type": "markdown",
   "metadata": {},
   "source": [
    "<br>"
   ]
  },
  {
   "cell_type": "markdown",
   "metadata": {},
   "source": [
    "## 5. EDA"
   ]
  },
  {
   "cell_type": "markdown",
   "metadata": {},
   "source": [
    "### 5.1 Find The 20 Most Common Words in News "
   ]
  },
  {
   "cell_type": "code",
   "execution_count": 225,
   "metadata": {},
   "outputs": [],
   "source": [
    "bow_news_t = bow_cleaned_news.transform(df_news1.news)\n",
    "\n",
    "# Define dataframe that contains the frequency of words in each news\n",
    "count_vect_df = pd.DataFrame(bow_news_t.todense(), columns=bow_cleaned_news.get_feature_names())"
   ]
  },
  {
   "cell_type": "code",
   "execution_count": 257,
   "metadata": {},
   "outputs": [
    {
     "data": {
      "text/html": [
       "<div>\n",
       "<style scoped>\n",
       "    .dataframe tbody tr th:only-of-type {\n",
       "        vertical-align: middle;\n",
       "    }\n",
       "\n",
       "    .dataframe tbody tr th {\n",
       "        vertical-align: top;\n",
       "    }\n",
       "\n",
       "    .dataframe thead th {\n",
       "        text-align: right;\n",
       "    }\n",
       "</style>\n",
       "<table border=\"1\" class=\"dataframe\">\n",
       "  <thead>\n",
       "    <tr style=\"text-align: right;\">\n",
       "      <th></th>\n",
       "      <th>الأول</th>\n",
       "      <th>القدم</th>\n",
       "      <th>فريق</th>\n",
       "      <th>لكرة</th>\n",
       "      <th>الفريق</th>\n",
       "      <th>الجولة</th>\n",
       "      <th>محمد</th>\n",
       "      <th>بن</th>\n",
       "      <th>دوري</th>\n",
       "      <th>كأس</th>\n",
       "      <th>سلمان</th>\n",
       "      <th>أمام</th>\n",
       "      <th>أمس</th>\n",
       "      <th>للمحترفين</th>\n",
       "      <th>ضمن</th>\n",
       "      <th>مدرب</th>\n",
       "      <th>الهلال</th>\n",
       "      <th>قبل</th>\n",
       "      <th>الاتحاد</th>\n",
       "      <th>المباراة</th>\n",
       "    </tr>\n",
       "  </thead>\n",
       "  <tbody>\n",
       "    <tr>\n",
       "      <th>0</th>\n",
       "      <td>2196</td>\n",
       "      <td>1946</td>\n",
       "      <td>1943</td>\n",
       "      <td>1820</td>\n",
       "      <td>1819</td>\n",
       "      <td>1769</td>\n",
       "      <td>1706</td>\n",
       "      <td>1588</td>\n",
       "      <td>1531</td>\n",
       "      <td>1440</td>\n",
       "      <td>1325</td>\n",
       "      <td>1297</td>\n",
       "      <td>1161</td>\n",
       "      <td>1146</td>\n",
       "      <td>1003</td>\n",
       "      <td>987</td>\n",
       "      <td>963</td>\n",
       "      <td>954</td>\n",
       "      <td>916</td>\n",
       "      <td>826</td>\n",
       "    </tr>\n",
       "  </tbody>\n",
       "</table>\n",
       "</div>"
      ],
      "text/plain": [
       "   الأول  القدم  فريق  لكرة  الفريق  الجولة  محمد    بن  دوري   كأس  سلمان  \\\n",
       "0   2196   1946  1943  1820    1819    1769  1706  1588  1531  1440   1325   \n",
       "\n",
       "   أمام   أمس  للمحترفين   ضمن  مدرب  الهلال  قبل  الاتحاد  المباراة  \n",
       "0  1297  1161       1146  1003   987     963  954      916       826  "
      ]
     },
     "execution_count": 257,
     "metadata": {},
     "output_type": "execute_result"
    }
   ],
   "source": [
    "# Define dataframe that contains the sum of words frequency \n",
    "sum_df = pd.DataFrame(np.sum(bow_news_t.todense(),axis=0), columns=cv_news.get_feature_names())\n",
    "\n",
    "# Sort by the frequency of words of first 20 common words\n",
    "sum_df.sort_values(by=0, ascending=False, axis=1).iloc[:,:20]"
   ]
  },
  {
   "cell_type": "markdown",
   "metadata": {},
   "source": [
    "### 5.2 Find The top 5 Date That Has The Highest Number of News"
   ]
  },
  {
   "cell_type": "code",
   "execution_count": 227,
   "metadata": {},
   "outputs": [
    {
     "data": {
      "text/plain": [
       "date\n",
       "2021-01-24    68\n",
       "2020-12-19    62\n",
       "2021-01-19    61\n",
       "2021-01-14    60\n",
       "2021-01-15    58\n",
       "Name: time, dtype: int64"
      ]
     },
     "execution_count": 227,
     "metadata": {},
     "output_type": "execute_result"
    }
   ],
   "source": [
    "df_news2.groupby(by='date')['time'].count().sort_values(ascending = False)[:5]"
   ]
  },
  {
   "cell_type": "markdown",
   "metadata": {},
   "source": [
    "The January 24, 2021 has the highest number of news."
   ]
  },
  {
   "cell_type": "markdown",
   "metadata": {},
   "source": [
    "### 5.3 Find The Average Number of words in each class"
   ]
  },
  {
   "cell_type": "code",
   "execution_count": 285,
   "metadata": {},
   "outputs": [
    {
     "data": {
      "text/plain": [
       "class\n",
       "0     86.439487\n",
       "1    142.509901\n",
       "2    125.816456\n",
       "Name: word_count, dtype: float64"
      ]
     },
     "execution_count": 285,
     "metadata": {},
     "output_type": "execute_result"
    }
   ],
   "source": [
    "# Let's look at the word count in news\n",
    "df_news2['word_count'] = df_news2['preprocessed_news'].apply(lambda x: len(x.split()))\n",
    "df_news2.groupby(by='class')['word_count'].mean()"
   ]
  },
  {
   "cell_type": "markdown",
   "metadata": {},
   "source": [
    "The class 1 has the largest average number of words because the type of content has more details."
   ]
  },
  {
   "cell_type": "markdown",
   "metadata": {},
   "source": [
    "### 5.4 How The Number of Words Distributed in Data"
   ]
  },
  {
   "cell_type": "code",
   "execution_count": 267,
   "metadata": {},
   "outputs": [
    {
     "data": {
      "image/png": "[encoded data removed]",
      "text/plain": [
       "<Figure size 432x288 with 1 Axes>"
      ]
     },
     "metadata": {
      "needs_background": "light"
     },
     "output_type": "display_data"
    }
   ],
   "source": [
    "sns.boxplot(data = df_news2, y= 'word_count')\n",
    "plt.grid(True)\n",
    "plt.show()"
   ]
  },
  {
   "cell_type": "markdown",
   "metadata": {},
   "source": [
    "Most of news have 90 - 130 words."
   ]
  },
  {
   "cell_type": "markdown",
   "metadata": {},
   "source": [
    "### 5.5 Word of News Wordcloud"
   ]
  },
  {
   "cell_type": "code",
   "execution_count": 258,
   "metadata": {},
   "outputs": [
    {
     "data": {
      "image/png": "[encoded data removed]",
      "text/plain": [
       "<Figure size 576x576 with 1 Axes>"
      ]
     },
     "metadata": {
      "needs_background": "light"
     },
     "output_type": "display_data"
    }
   ],
   "source": [
    "# Define function to reverse word\n",
    "rtl = lambda w: get_display(reshape(f'{w}'))\n",
    "\n",
    "# Get unique news into list\n",
    "words_list = df_news1['news'].unique().tolist()\n",
    "\n",
    "# Reverse the words of news\n",
    "words_list = [rtl(word) for word in words_list]\n",
    "words = ' '.join(words_list)\n",
    "\n",
    "# NotoNaskhArabic-Regular.ttf is included with notebook\n",
    "wordcloud = WordCloud(width=800, height=500, stopwords=stop_words, font_path='NotoNaskhArabic-Regular.ttf').generate(words)\n",
    "plt.figure(figsize=(8, 8), facecolor=None)\n",
    "plt.imshow(wordcloud)\n",
    "plt.axis('off')\n",
    "plt.tight_layout(pad=0)\n",
    "plt.show()"
   ]
  },
  {
   "cell_type": "markdown",
   "metadata": {},
   "source": [
    "### 5.6 The Distributed of Class"
   ]
  },
  {
   "cell_type": "code",
   "execution_count": 266,
   "metadata": {},
   "outputs": [
    {
     "data": {
      "image/png": "[encoded data removed]",
      "text/plain": [
       "<Figure size 432x288 with 1 Axes>"
      ]
     },
     "metadata": {
      "needs_background": "light"
     },
     "output_type": "display_data"
    }
   ],
   "source": [
    "sns.countplot(data = df_news2, x= 'class')\n",
    "plt.grid(True)\n",
    "plt.show()"
   ]
  },
  {
   "cell_type": "markdown",
   "metadata": {},
   "source": [
    "The most of news belong class 0."
   ]
  },
  {
   "cell_type": "markdown",
   "metadata": {},
   "source": [
    "### 5.7 Find The City which has The Highest Number of News"
   ]
  },
  {
   "cell_type": "code",
   "execution_count": 290,
   "metadata": {},
   "outputs": [
    {
     "data": {
      "text/plain": [
       "location\n",
       "الرياض     857\n",
       "جدة        291\n",
       "الدمام     199\n",
       "الأحساء    130\n",
       "بريدة      129\n",
       "Name: word_count, dtype: int64"
      ]
     },
     "execution_count": 290,
     "metadata": {},
     "output_type": "execute_result"
    }
   ],
   "source": [
    "df_news2.groupby(by='location')['word_count'].count().sort_values(ascending = False)[:5]"
   ]
  },
  {
   "cell_type": "markdown",
   "metadata": {},
   "source": [
    "The 'الرياض' has the highest number of news."
   ]
  }
 ],
 "metadata": {
  "kernelspec": {
   "display_name": "Python 3",
   "language": "python",
   "name": "python3"
  },
  "language_info": {
   "codemirror_mode": {
    "name": "ipython",
    "version": 3
   },
   "file_extension": ".py",
   "mimetype": "text/x-python",
   "name": "python",
   "nbconvert_exporter": "python",
   "pygments_lexer": "ipython3",
   "version": "3.8.5"
  }
 },
 "nbformat": 4,
 "nbformat_minor": 4
}
